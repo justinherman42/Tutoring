{
 "cells": [
  {
   "cell_type": "markdown",
   "metadata": {},
   "source": [
    "## You asked why am i suing the input instead of print\n",
    "+ I hadn't looked hard enough at the time and misinterpreted what you were saying\n",
    "+ I'm assuming you did this to slow down the text.  We can do that \n",
    "instead of input to read code slowly we can try "
   ]
  },
  {
   "cell_type": "code",
   "execution_count": 1,
   "metadata": {},
   "outputs": [],
   "source": [
    "import sys,time,random\n",
    "\n",
    "typing_speed = 50 #wpm\n",
    "def slow_type(t):\n",
    "    for l in t:\n",
    "        sys.stdout.write(l)\n",
    "        sys.stdout.flush()\n",
    "        time.sleep(random.random()*10.0/typing_speed)\n",
    "    print ('')"
   ]
  },
  {
   "cell_type": "code",
   "execution_count": 2,
   "metadata": {},
   "outputs": [
    {
     "name": "stdout",
     "output_type": "stream",
     "text": [
      " my words in this sentence\n"
     ]
    }
   ],
   "source": [
    "slow_type(\" my words in this sentence\")"
   ]
  },
  {
   "cell_type": "markdown",
   "metadata": {},
   "source": [
    "## Hard coding\n",
    "+ My guess is your professor wanted you to hard code something like menu options, which you did pretty often but not always.\n",
    "+ If we do \"limit\" options to results in say (1-5), we can easily create a function which covers all user input\n",
    "+ Other options: We want error checks on user input.  \n",
    "    + Hard coding limited options theoretically helps with this\n",
    "    + typically you would want a try:except block(which I'm sure you have not covered yet so well wait on it)\n",
    "    + Some sort of while loop\n",
    "+  When i'm coding and I see I've had to repeat the same thing over and over, i want to solve that.  TBH, sometimes I'll spend 30 minutes turning code into a function that actually loses me time.  Still, i see all the userinput questions and i think what is the structure\n",
    "    + Ask user a question\n",
    "    + present options for question\n",
    "    + identify correct answers\n",
    "    + perform actions \n",
    "+ So most of this can be put into a function or functions\n",
    "    + def function ask_question (user_input, correct_answer,action)\n",
    "    + def function do_something(1= do this\n",
    "                                2= do this\n",
    "                                3= do this\n",
    "                                4=do this)\n"
   ]
  },
  {
   "cell_type": "markdown",
   "metadata": {},
   "source": [
    "+ Lets create a function that as its input takes your question, a correct answer(s), and checks for that answer"
   ]
  },
  {
   "cell_type": "code",
   "execution_count": 7,
   "metadata": {},
   "outputs": [],
   "source": [
    "def check_user_input(question,correct_answers):\n",
    "    ##answers will be a list\n",
    "    answers=correct_answers\n",
    "    user_input = input(question)\n",
    "    while user_input not in answers:\n",
    "        print(\"sorry that wasn't a correct response\")\n",
    "        user_input = input(question)\n",
    "        print(\"correct answer\")\n",
    "    return (user_input)"
   ]
  },
  {
   "cell_type": "code",
   "execution_count": 8,
   "metadata": {},
   "outputs": [
    {
     "name": "stdout",
     "output_type": "stream",
     "text": [
      "what day is it todayThursday\n"
     ]
    }
   ],
   "source": [
    "user_answer = check_user_input(\"what day is it today\",[\"Thursday\"])"
   ]
  },
  {
   "cell_type": "code",
   "execution_count": 9,
   "metadata": {},
   "outputs": [
    {
     "data": {
      "text/plain": [
       "'Thursday'"
      ]
     },
     "execution_count": 9,
     "metadata": {},
     "output_type": "execute_result"
    }
   ],
   "source": []
  },
  {
   "cell_type": "code",
   "execution_count": null,
   "metadata": {},
   "outputs": [],
   "source": []
  },
  {
   "cell_type": "code",
   "execution_count": null,
   "metadata": {},
   "outputs": [],
   "source": []
  }
 ],
 "metadata": {
  "kernelspec": {
   "display_name": "Python 3",
   "language": "python",
   "name": "python3"
  },
  "language_info": {
   "codemirror_mode": {
    "name": "ipython",
    "version": 3
   },
   "file_extension": ".py",
   "mimetype": "text/x-python",
   "name": "python",
   "nbconvert_exporter": "python",
   "pygments_lexer": "ipython3",
   "version": "3.7.1"
  },
  "latex_envs": {
   "LaTeX_envs_menu_present": true,
   "autoclose": false,
   "autocomplete": true,
   "bibliofile": "biblio.bib",
   "cite_by": "apalike",
   "current_citInitial": 1,
   "eqLabelWithNumbers": true,
   "eqNumInitial": 1,
   "hotkeys": {
    "equation": "Ctrl-E",
    "itemize": "Ctrl-I"
   },
   "labels_anchors": false,
   "latex_user_defs": false,
   "report_style_numbering": false,
   "user_envs_cfg": false
  },
  "toc": {
   "base_numbering": 1,
   "nav_menu": {},
   "number_sections": true,
   "sideBar": true,
   "skip_h1_title": false,
   "title_cell": "Table of Contents",
   "title_sidebar": "Contents",
   "toc_cell": false,
   "toc_position": {},
   "toc_section_display": true,
   "toc_window_display": false
  },
  "varInspector": {
   "cols": {
    "lenName": 16,
    "lenType": 16,
    "lenVar": 40
   },
   "kernels_config": {
    "python": {
     "delete_cmd_postfix": "",
     "delete_cmd_prefix": "del ",
     "library": "var_list.py",
     "varRefreshCmd": "print(var_dic_list())"
    },
    "r": {
     "delete_cmd_postfix": ") ",
     "delete_cmd_prefix": "rm(",
     "library": "var_list.r",
     "varRefreshCmd": "cat(var_dic_list()) "
    }
   },
   "types_to_exclude": [
    "module",
    "function",
    "builtin_function_or_method",
    "instance",
    "_Feature"
   ],
   "window_display": true
  }
 },
 "nbformat": 4,
 "nbformat_minor": 2
}
