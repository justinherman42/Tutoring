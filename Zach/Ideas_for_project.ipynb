{
 "cells": [
  {
   "cell_type": "markdown",
   "metadata": {},
   "source": [
    "## You asked why am i suing the input instead of print\n",
    "+ I hadn't looked hard enough at the time and misinterpreted what you were saying\n",
    "+ I'm assuming you did this to slow down the text.  We can do that \n",
    "instead of input to read code slowly we can try "
   ]
  },
  {
   "cell_type": "code",
   "execution_count": 1,
   "metadata": {},
   "outputs": [],
   "source": [
    "import sys,time,random\n",
    "\n",
    "typing_speed = 50 #wpm\n",
    "def slow_type(t):\n",
    "    for l in t:\n",
    "        sys.stdout.write(l)\n",
    "        sys.stdout.flush()\n",
    "        time.sleep(random.random()*10.0/typing_speed)\n",
    "    print ('')\n",
    "    \n",
    "## https://stackoverflow.com/questions/39422027/slow-printing-still-need-answers"
   ]
  },
  {
   "cell_type": "code",
   "execution_count": 2,
   "metadata": {},
   "outputs": [
    {
     "name": "stdout",
     "output_type": "stream",
     "text": [
      " my words in this sentence...\n"
     ]
    }
   ],
   "source": [
    "slow_type(\" my words in this sentence...\")"
   ]
  },
  {
   "cell_type": "markdown",
   "metadata": {},
   "source": [
    "## Hard coding\n",
    "+ My guess is your professor wanted you to hard code something like menu options, which you did pretty often but not always.\n",
    "+ If we \"limit\" options to results in say (1-5), we can easily create a function which covers all user input\n",
    "+ Other options: We want error checks on user input.  \n",
    "    + Hard coding limited options theoretically helps with this\n",
    "    + typically you would want a try:except block(which I'm sure you have not covered yet so well wait on it)\n",
    "    + Some sort of while loop\n",
    "+  When i'm coding and I see I've had to repeat the same thing over and over, i want to solve that.  TBH, sometimes I'll spend 30 minutes turning code into a function that actually loses me time.  Still, i see all the userinput questions and i think what is the structure\n",
    "    + Ask user a question\n",
    "    + present options for question\n",
    "    + identify correct answers\n",
    "    + perform actions \n",
    "+ So most of this can be put into a function or functions\n",
    "    + def function ask_question (user_input, correct_answer,action)\n",
    "    + def function do_something():\n",
    "                                1= do this\n",
    "                                2= do this\n",
    "                                3= do this\n",
    "                                4= do this\n"
   ]
  },
  {
   "cell_type": "markdown",
   "metadata": {},
   "source": [
    "+ Lets create a function that as its input takes your question, a correct answer(s), and checks for that answer\n",
    "    + Some of the code amy look weird.  What we're trying to do is automate away as muvh of the code as we can.  So let's say we wnat to give users differnt amounts of options, well we need a function that can give them 3, 4, 9 choices.  \n",
    "    + we also want that function to do most of the heavy lifting, so lets say user enters wrong option or an invalid option.  lets make it so our function tells them they need to choose between some automated number of options\n",
    "+ This function will "
   ]
  },
  {
   "cell_type": "code",
   "execution_count": 12,
   "metadata": {},
   "outputs": [],
   "source": [
    "def check_user_input(question,correct_answers, num_options):\n",
    "    \"\"\"  \n",
    "    Question: will be our question.  It will go into input and here you will build out the \n",
    "              menu for user\n",
    "    Correctanswers: Limits user to only choosing from preset hard coded answers.  \n",
    "                    If they enter something invalid they stay in loop\n",
    "    num options: we want to automate for difference in option numbers\n",
    "    \"\"\"\n",
    "    ##answers will be a list\n",
    "    answers=correct_answers\n",
    "    ## just amkes a list with list comprehension(you can see why its so great)\n",
    "    ## pretty much whenever I have a thing I want to build, I use list comprehension\n",
    "    options= [x for x in range (1,num_options+1)]\n",
    "    \n",
    "    ## What this does is it concatenates all elements of a list into a string \n",
    "    ## we will use this string in our \n",
    "    options = ', '.join(str(x) for x in options)\n",
    "                       \n",
    "    user_input = input(question)\n",
    "    while user_input not in answers:\n",
    "        print(\"sorry that wasn't a correct response please enter {}\".format(options))\n",
    "        user_input = input(question)\n",
    "        \n",
    "    return (user_input)"
   ]
  },
  {
   "cell_type": "code",
   "execution_count": 14,
   "metadata": {},
   "outputs": [
    {
     "name": "stdout",
     "output_type": "stream",
     "text": [
      "what day is it today5\n"
     ]
    }
   ],
   "source": [
    "user_answer = check_user_input(\"what day is it today\",[\"5\"],5)"
   ]
  },
  {
   "cell_type": "markdown",
   "metadata": {},
   "source": [
    "## We have a couple of options\n",
    "+ We want to also build a perform action function.\n",
    "+ we can call that function inside our check user_input function\n",
    "+ or we can just call it outside on next line"
   ]
  },
  {
   "cell_type": "code",
   "execution_count": 19,
   "metadata": {},
   "outputs": [],
   "source": [
    "def perform_action(input_from_user,action1=None,action2=None,action3=None,action4=None,action5=None):\n",
    "    \"\"\"\n",
    "    input_from_user is the stored input from check_user_input function\n",
    "    Actions \n",
    "    \"\"\"\n",
    "    if input_from_user == '1':\n",
    "        print(action1)\n",
    "    elif input_from_user == '2':\n",
    "        print(action2)\n",
    "    elif input_from_user == '3':\n",
    "        print(action3)\n",
    "    elif input_from_user == '4':\n",
    "        print(action4)\n",
    "    elif input_from_user == '5':\n",
    "        print(action5)"
   ]
  },
  {
   "cell_type": "code",
   "execution_count": null,
   "metadata": {},
   "outputs": [],
   "source": [
    "perform_action(input_from_user=user_answer,action5=\"He chose 5\" )"
   ]
  },
  {
   "cell_type": "markdown",
   "metadata": {},
   "source": [
    "### Think of time saved from typing ifelse everytime alone"
   ]
  },
  {
   "cell_type": "markdown",
   "metadata": {},
   "source": [
    "# Ideas\n",
    "+ Maybe only 1 action will lead you down right path?\n",
    "+ Maybe some actions reset entire path?\n",
    "+ Maybe we add in deaths?\n",
    "+ Maybe we add in some morality score for user based on decisions(gonna be tough in 5 hours)?\n",
    "+ "
   ]
  },
  {
   "cell_type": "code",
   "execution_count": null,
   "metadata": {},
   "outputs": [],
   "source": []
  }
 ],
 "metadata": {
  "kernelspec": {
   "display_name": "Python 3",
   "language": "python",
   "name": "python3"
  },
  "language_info": {
   "codemirror_mode": {
    "name": "ipython",
    "version": 3
   },
   "file_extension": ".py",
   "mimetype": "text/x-python",
   "name": "python",
   "nbconvert_exporter": "python",
   "pygments_lexer": "ipython3",
   "version": "3.7.3"
  },
  "latex_envs": {
   "LaTeX_envs_menu_present": true,
   "autoclose": false,
   "autocomplete": true,
   "bibliofile": "biblio.bib",
   "cite_by": "apalike",
   "current_citInitial": 1,
   "eqLabelWithNumbers": true,
   "eqNumInitial": 1,
   "hotkeys": {
    "equation": "Ctrl-E",
    "itemize": "Ctrl-I"
   },
   "labels_anchors": false,
   "latex_user_defs": false,
   "report_style_numbering": false,
   "user_envs_cfg": false
  },
  "toc": {
   "base_numbering": 1,
   "nav_menu": {},
   "number_sections": true,
   "sideBar": true,
   "skip_h1_title": false,
   "title_cell": "Table of Contents",
   "title_sidebar": "Contents",
   "toc_cell": false,
   "toc_position": {},
   "toc_section_display": true,
   "toc_window_display": false
  },
  "varInspector": {
   "cols": {
    "lenName": 16,
    "lenType": 16,
    "lenVar": 40
   },
   "kernels_config": {
    "python": {
     "delete_cmd_postfix": "",
     "delete_cmd_prefix": "del ",
     "library": "var_list.py",
     "varRefreshCmd": "print(var_dic_list())"
    },
    "r": {
     "delete_cmd_postfix": ") ",
     "delete_cmd_prefix": "rm(",
     "library": "var_list.r",
     "varRefreshCmd": "cat(var_dic_list()) "
    }
   },
   "types_to_exclude": [
    "module",
    "function",
    "builtin_function_or_method",
    "instance",
    "_Feature"
   ],
   "window_display": true
  }
 },
 "nbformat": 4,
 "nbformat_minor": 2
}
