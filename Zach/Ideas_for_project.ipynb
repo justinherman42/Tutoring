{
 "cells": [
  {
   "cell_type": "markdown",
   "metadata": {},
   "source": [
    "## You asked why am i suing the input instead of print\n",
    "+ I hadn't looked hard enough at the time and misinterpreted what you were saying\n",
    "+ I'm assuming you did this to slow down the text.  We can do that \n",
    "instead of input to read code slowly we can try "
   ]
  },
  {
   "cell_type": "code",
   "execution_count": 42,
   "metadata": {},
   "outputs": [],
   "source": [
    "import sys,time,random\n",
    "\n",
    "typing_speed = 50 #wpm\n",
    "def slow_type(t):\n",
    "    for l in t:\n",
    "        sys.stdout.write(l)\n",
    "        sys.stdout.flush()\n",
    "        time.sleep(random.random()*10.0/typing_speed)\n",
    "    print ('')\n",
    "    \n",
    "## https://stackoverflow.com/questions/39422027/slow-printing-still-need-answers"
   ]
  },
  {
   "cell_type": "code",
   "execution_count": 24,
   "metadata": {},
   "outputs": [
    {
     "name": "stdout",
     "output_type": "stream",
     "text": [
      " my words in this sentence... \n",
      " were now doing this\n"
     ]
    }
   ],
   "source": [
    "slow_type(\" my words in this sentence... \\n were now doing this\")"
   ]
  },
  {
   "cell_type": "markdown",
   "metadata": {},
   "source": [
    "## Hard coding\n",
    "+ My guess is your professor wanted you to hard code something like menu options, which you did pretty often but not always.\n",
    "+ If we \"limit\" options to results in say (1-5), we can easily create a function which covers all user input\n",
    "+ Other options: We want error checks on user input.  \n",
    "    + Hard coding limited options theoretically helps with this\n",
    "    + typically you would want a try:except block(which I'm sure you have not covered yet so well wait on it)\n",
    "    + Some sort of while loop\n",
    "+  When i'm coding and I see I've had to repeat the same thing over and over, i want to solve that.  TBH, sometimes I'll spend 30 minutes turning code into a function that actually loses me time.  Still, i see all the userinput questions and i think what is the structure\n",
    "    + Ask user a question\n",
    "    + present options for question\n",
    "    + identify correct answers\n",
    "    + perform actions \n",
    "+ So most of this can be put into a function or functions\n",
    "    + def function ask_question (user_input, correct_answer,action)\n",
    "    + def function do_something():\n",
    "                                1= do this\n",
    "                                2= do this\n",
    "                                3= do this\n",
    "                                4= do this\n"
   ]
  },
  {
   "cell_type": "markdown",
   "metadata": {},
   "source": [
    "+ Lets create a function that as its input takes your question, a correct answer(s), and checks for that answer\n",
    "    + Some of the code amy look weird.  What we're trying to do is automate away as muvh of the code as we can.  So let's say we wnat to give users differnt amounts of options, well we need a function that can give them 3, 4, 9 choices.  \n",
    "    + we also want that function to do most of the heavy lifting, so lets say user enters wrong option or an invalid option.  lets make it so our function tells them they need to choose between some automated number of options\n",
    "+ This function will "
   ]
  },
  {
   "cell_type": "code",
   "execution_count": 12,
   "metadata": {},
   "outputs": [],
   "source": [
    "def check_user_input(question,correct_answers, num_options):\n",
    "    \"\"\"  \n",
    "    Question: will be our question.  It will go into input and here you will build out the \n",
    "              menu for user\n",
    "    Correctanswers: Limits user to only choosing from preset hard coded answers.  \n",
    "                    If they enter something invalid they stay in loop\n",
    "    num options: we want to automate for difference in option numbers\n",
    "    \"\"\"\n",
    "    ##answers will be a list\n",
    "    answers=correct_answers\n",
    "    ## just amkes a list with list comprehension(you can see why its so great)\n",
    "    ## pretty much whenever I have a thing I want to build, I use list comprehension\n",
    "    options= [x for x in range (1,num_options+1)]\n",
    "    \n",
    "    ## What this does is it concatenates all elements of a list into a string \n",
    "    ## we will use this string in our \n",
    "    options = ', '.join(str(x) for x in options)\n",
    "                       \n",
    "    user_input = input(question)\n",
    "    while user_input not in answers:\n",
    "        print(\"sorry that wasn't a correct response please enter {}\".format(options))\n",
    "        user_input = input(question)\n",
    "        \n",
    "    return (user_input)"
   ]
  },
  {
   "cell_type": "code",
   "execution_count": 14,
   "metadata": {},
   "outputs": [
    {
     "name": "stdout",
     "output_type": "stream",
     "text": [
      "what day is it today5\n"
     ]
    }
   ],
   "source": [
    "user_answer = check_user_input(\"what day is it today\",[\"5\"],5)"
   ]
  },
  {
   "cell_type": "markdown",
   "metadata": {},
   "source": [
    "## We have a couple of options\n",
    "+ We want to also build a perform action function.\n",
    "+ we can call that function inside our check user_input function\n",
    "+ or we can just call it outside on next line"
   ]
  },
  {
   "cell_type": "code",
   "execution_count": 19,
   "metadata": {},
   "outputs": [],
   "source": [
    "def perform_action(input_from_user,action1=None,action2=None,action3=None,action4=None,action5=None):\n",
    "    \"\"\"\n",
    "    input_from_user is the stored input from check_user_input function\n",
    "    Actions \n",
    "    \"\"\"\n",
    "    if input_from_user == '1':\n",
    "        print(action1)\n",
    "    elif input_from_user == '2':\n",
    "        print(action2)\n",
    "    elif input_from_user == '3':\n",
    "        print(action3)\n",
    "    elif input_from_user == '4':\n",
    "        print(action4)\n",
    "    elif input_from_user == '5':\n",
    "        print(action5)"
   ]
  },
  {
   "cell_type": "code",
   "execution_count": null,
   "metadata": {},
   "outputs": [],
   "source": [
    "perform_action(input_from_user=user_answer,action5=\"He chose 5\" )"
   ]
  },
  {
   "cell_type": "markdown",
   "metadata": {},
   "source": [
    "### Think of time saved from typing ifelse everytime alone"
   ]
  },
  {
   "cell_type": "markdown",
   "metadata": {},
   "source": [
    "# Ideas\n",
    "+ Maybe only 1 action will lead you down right path?\n",
    "+ Maybe some actions reset entire path?\n",
    "+ Maybe we add in deaths?\n",
    "+ Maybe we add in some morality score for user based on decisions(gonna be tough in 5 hours)?\n",
    "+ "
   ]
  },
  {
   "cell_type": "code",
   "execution_count": null,
   "metadata": {},
   "outputs": [],
   "source": [
    "while not f:\n",
    "    slow_type(\"something here\")\n",
    "    print(\"attack\")\n",
    "    "
   ]
  },
  {
   "cell_type": "code",
   "execution_count": 34,
   "metadata": {},
   "outputs": [
    {
     "data": {
      "text/plain": [
       "45"
      ]
     },
     "execution_count": 34,
     "metadata": {},
     "output_type": "execute_result"
    }
   ],
   "source": [
    "random.randint(45,50)"
   ]
  },
  {
   "cell_type": "code",
   "execution_count": 56,
   "metadata": {},
   "outputs": [
    {
     "name": "stdout",
     "output_type": "stream",
     "text": [
      "4999\r",
      "\r\n",
      "4998\r",
      "\r\n",
      "4997\r",
      "\r\n",
      "4996\r",
      "\r\n",
      "4995\r",
      "\r\n",
      "4994\r",
      "\r\n",
      "4993\r",
      "\r\n",
      "4992\r",
      "\r\n",
      "4991\r",
      "\r\n",
      "4990\r",
      "\r\n",
      "4989\r",
      "\r\n",
      "4988\r",
      "\r\n",
      "4987\r",
      "\r\n",
      "4986\r",
      "\r\n",
      "4985\r",
      "\r\n",
      "4984\r",
      "\r\n",
      "4983\r",
      "\r\n",
      "4982\r",
      "\r\n",
      "4981\r",
      "\r\n",
      "4980\r",
      "\r\n",
      "4979\r",
      "\r\n",
      "4978\r",
      "\r\n",
      "4977\r",
      "\r\n",
      "4976\r",
      "\r\n",
      "4975\r",
      "\r\n",
      "4974\r",
      "\r\n",
      "4973\r",
      "\r\n",
      "4972\r",
      "\r\n",
      "4971\r",
      "\r\n",
      "4970\r",
      "\r\n",
      "4969\r",
      "\r\n",
      "4968\r",
      "\r\n",
      "4967\r",
      "\r\n",
      "4966\r",
      "\r\n",
      "4965\r",
      "\r\n",
      "4964\r",
      "\r\n",
      "4963\r",
      "\r\n",
      "4962\r",
      "\r\n",
      "4961\r",
      "\r\n",
      "4960\r",
      "\r\n",
      "4959\r",
      "\r\n",
      "4958\r",
      "\r\n",
      "4957\r",
      "\r\n",
      "4956\r",
      "\r\n",
      "4955\r",
      "\r\n",
      "4954\r",
      "\r\n",
      "4953\r",
      "\r\n",
      "4952\r",
      "\r\n"
     ]
    }
   ],
   "source": [
    "boss_health=5000\n",
    "damage=48\n",
    "current_boss_health=[]\n",
    "for x in range(damage):\n",
    "    boss_health-=1\n",
    "    ournum= str(boss_health)\n",
    " #   print(ournum+\"\\r\")\n",
    "    current_boss_health.append(ournum+\"\\r\")\n",
    "#print(current_boss_health)\n",
    "\n",
    "for x in current_boss_health:\n",
    "    print( str(x)+\"\\r\")"
   ]
  },
  {
   "cell_type": "code",
   "execution_count": 58,
   "metadata": {},
   "outputs": [
    {
     "data": {
      "text/plain": [
       "'A'"
      ]
     },
     "execution_count": 58,
     "metadata": {},
     "output_type": "execute_result"
    }
   ],
   "source": [
    "\"a\".upper()"
   ]
  },
  {
   "cell_type": "code",
   "execution_count": 57,
   "metadata": {},
   "outputs": [
    {
     "ename": "TypeError",
     "evalue": "'int' object is not iterable",
     "output_type": "error",
     "traceback": [
      "\u001b[1;31m---------------------------------------------------------------------------\u001b[0m",
      "\u001b[1;31mTypeError\u001b[0m                                 Traceback (most recent call last)",
      "\u001b[1;32m<ipython-input-57-eddf1fa5b766>\u001b[0m in \u001b[0;36m<module>\u001b[1;34m\u001b[0m\n\u001b[1;32m----> 1\u001b[1;33m \u001b[0mslow_type\u001b[0m\u001b[1;33m(\u001b[0m\u001b[1;36m5\u001b[0m\u001b[1;33m)\u001b[0m\u001b[1;33m\u001b[0m\u001b[1;33m\u001b[0m\u001b[0m\n\u001b[0m",
      "\u001b[1;32m<ipython-input-42-36734fcd8d82>\u001b[0m in \u001b[0;36mslow_type\u001b[1;34m(t)\u001b[0m\n\u001b[0;32m      3\u001b[0m \u001b[0mtyping_speed\u001b[0m \u001b[1;33m=\u001b[0m \u001b[1;36m50\u001b[0m \u001b[1;31m#wpm\u001b[0m\u001b[1;33m\u001b[0m\u001b[1;33m\u001b[0m\u001b[0m\n\u001b[0;32m      4\u001b[0m \u001b[1;32mdef\u001b[0m \u001b[0mslow_type\u001b[0m\u001b[1;33m(\u001b[0m\u001b[0mt\u001b[0m\u001b[1;33m)\u001b[0m\u001b[1;33m:\u001b[0m\u001b[1;33m\u001b[0m\u001b[1;33m\u001b[0m\u001b[0m\n\u001b[1;32m----> 5\u001b[1;33m     \u001b[1;32mfor\u001b[0m \u001b[0ml\u001b[0m \u001b[1;32min\u001b[0m \u001b[0mt\u001b[0m\u001b[1;33m:\u001b[0m\u001b[1;33m\u001b[0m\u001b[1;33m\u001b[0m\u001b[0m\n\u001b[0m\u001b[0;32m      6\u001b[0m         \u001b[0msys\u001b[0m\u001b[1;33m.\u001b[0m\u001b[0mstdout\u001b[0m\u001b[1;33m.\u001b[0m\u001b[0mwrite\u001b[0m\u001b[1;33m(\u001b[0m\u001b[0ml\u001b[0m\u001b[1;33m)\u001b[0m\u001b[1;33m\u001b[0m\u001b[1;33m\u001b[0m\u001b[0m\n\u001b[0;32m      7\u001b[0m         \u001b[0msys\u001b[0m\u001b[1;33m.\u001b[0m\u001b[0mstdout\u001b[0m\u001b[1;33m.\u001b[0m\u001b[0mflush\u001b[0m\u001b[1;33m(\u001b[0m\u001b[1;33m)\u001b[0m\u001b[1;33m\u001b[0m\u001b[1;33m\u001b[0m\u001b[0m\n",
      "\u001b[1;31mTypeError\u001b[0m: 'int' object is not iterable"
     ]
    }
   ],
   "source": [
    "### have to define user picks shield\n",
    "if user_oicks:\n",
    "    pass\n",
    "\n",
    "## have to deine if user picks hel\n"
   ]
  },
  {
   "cell_type": "code",
   "execution_count": null,
   "metadata": {},
   "outputs": [],
   "source": []
  },
  {
   "cell_type": "code",
   "execution_count": 59,
   "metadata": {},
   "outputs": [
    {
     "ename": "SyntaxError",
     "evalue": "invalid syntax (<ipython-input-59-74647e4ad14f>, line 1)",
     "output_type": "error",
     "traceback": [
      "\u001b[1;36m  File \u001b[1;32m\"<ipython-input-59-74647e4ad14f>\"\u001b[1;36m, line \u001b[1;32m1\u001b[0m\n\u001b[1;33m    1/10    20/10   1/1\u001b[0m\n\u001b[1;37m             ^\u001b[0m\n\u001b[1;31mSyntaxError\u001b[0m\u001b[1;31m:\u001b[0m invalid syntax\n"
     ]
    }
   ],
   "source": []
  },
  {
   "cell_type": "code",
   "execution_count": 67,
   "metadata": {},
   "outputs": [
    {
     "name": "stdout",
     "output_type": "stream",
     "text": [
      "Download progress:10\r"
     ]
    }
   ],
   "source": [
    "import sys\n",
    "import time\n",
    "\n",
    "USER_HEALTH=100\n",
    "for x in range(90):\n",
    "    USER_HEALTH-=1\n",
    "   # print(USER_HEALTH)\n",
    "    sys.stdout.write(\"Download progress:\" +str(USER_HEALTH)+   \"\\r\")\n",
    "    sys.stdout.flush()\n",
    "    time.sleep(1)\n"
   ]
  },
  {
   "cell_type": "code",
   "execution_count": null,
   "metadata": {},
   "outputs": [],
   "source": [
    "time.strftime"
   ]
  }
 ],
 "metadata": {
  "kernelspec": {
   "display_name": "Python 3",
   "language": "python",
   "name": "python3"
  },
  "language_info": {
   "codemirror_mode": {
    "name": "ipython",
    "version": 3
   },
   "file_extension": ".py",
   "mimetype": "text/x-python",
   "name": "python",
   "nbconvert_exporter": "python",
   "pygments_lexer": "ipython3",
   "version": "3.7.3"
  },
  "latex_envs": {
   "LaTeX_envs_menu_present": true,
   "autoclose": false,
   "autocomplete": true,
   "bibliofile": "biblio.bib",
   "cite_by": "apalike",
   "current_citInitial": 1,
   "eqLabelWithNumbers": true,
   "eqNumInitial": 1,
   "hotkeys": {
    "equation": "Ctrl-E",
    "itemize": "Ctrl-I"
   },
   "labels_anchors": false,
   "latex_user_defs": false,
   "report_style_numbering": false,
   "user_envs_cfg": false
  },
  "toc": {
   "base_numbering": 1,
   "nav_menu": {},
   "number_sections": true,
   "sideBar": true,
   "skip_h1_title": false,
   "title_cell": "Table of Contents",
   "title_sidebar": "Contents",
   "toc_cell": false,
   "toc_position": {},
   "toc_section_display": true,
   "toc_window_display": false
  },
  "varInspector": {
   "cols": {
    "lenName": 16,
    "lenType": 16,
    "lenVar": 40
   },
   "kernels_config": {
    "python": {
     "delete_cmd_postfix": "",
     "delete_cmd_prefix": "del ",
     "library": "var_list.py",
     "varRefreshCmd": "print(var_dic_list())"
    },
    "r": {
     "delete_cmd_postfix": ") ",
     "delete_cmd_prefix": "rm(",
     "library": "var_list.r",
     "varRefreshCmd": "cat(var_dic_list()) "
    }
   },
   "types_to_exclude": [
    "module",
    "function",
    "builtin_function_or_method",
    "instance",
    "_Feature"
   ],
   "window_display": true
  }
 },
 "nbformat": 4,
 "nbformat_minor": 2
}
