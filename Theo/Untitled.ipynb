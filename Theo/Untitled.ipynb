{
 "cells": [
  {
   "cell_type": "code",
   "execution_count": null,
   "metadata": {},
   "outputs": [],
   "source": [
    "quitprogram = 'no'\n",
    "Address = {}\n",
    "while quitprogram == 'no':\n",
    "    def Add_Update (Name,Contact):\n",
    "        Address[Name] = Contact\n",
    "        with open('output.txt','a+') as outfile:\n",
    "            outfile.write(str(Name)+\":\"+str(Contact) )\n",
    "            outfile.write('\\n')\n",
    "            #print(str(Address[Name]) \n",
    "        return (Address)\n",
    "        \n",
    "    def Display_All_Contacts ():\n",
    "        infile = open('output.txt','r').readlines()\n",
    "        for line in infile:\n",
    "            print(line)\n",
    "        infile.close()\n",
    "    def Delete_Contact (Name):\n",
    "        if Name in Address.keys():\n",
    "            del(Address[Name])\n",
    "        else:\n",
    "            print(\"No Name found try again\")\n",
    "        infile = open('output.txt','r').readlines()\n",
    "        with open('output.txt','w') as outfile: \n",
    "            for line in infile:\n",
    "                if not line.startswith(str(Name)):\n",
    "                    outfile.write(line)\n",
    "        infile.close()\n",
    "                    \n",
    "    Answer=input('''Enter the number coresponding to the option in the menu:\n",
    "          1 - Add/Update contact...\n",
    "          2 - Display all contacts...\n",
    "          3 - Search...\n",
    "          4 - Delete contact...\n",
    "          5 - Quit: ''')\n",
    "    if Answer == str(5):\n",
    "        break\n",
    "    if Answer == '4':\n",
    "        New_Name=input('Enter the contact you want to delete: ')\n",
    "        Delete_Contact(New_Name)\n",
    "    if Answer == '3':\n",
    "        New_Name=input('Enter the contact you want to search for: ')\n",
    "        Search(New_Name)\n",
    "    if Answer == '2':\n",
    "        Display_All_Contacts()\n",
    "    if Answer == '1':\n",
    "        Name = input(\"Enter a Name: \")\n",
    "        Contact = input(\"Enter a Phone Number or Email address: \")\n",
    "        Add_Update(Name,Contact)\n",
    "        \n",
    "        \n"
   ]
  },
  {
   "cell_type": "code",
   "execution_count": null,
   "metadata": {},
   "outputs": [],
   "source": [
    "## Read in the file\n",
    "infile = open('input.txt','r').readlines()\n",
    "## open file in write only mode(this will delete old file)\n",
    "with open('output.txt','w') as outfile: \n",
    "    ## for each line in the file in r Check if addressname in line\n",
    "    for line in infile:\n",
    "        if not line.startswith(str(name))\n",
    "            outfile.write(line)\n",
    "            "
   ]
  }
 ],
 "metadata": {
  "kernelspec": {
   "display_name": "Python 3",
   "language": "python",
   "name": "python3"
  },
  "language_info": {
   "codemirror_mode": {
    "name": "ipython",
    "version": 3
   },
   "file_extension": ".py",
   "mimetype": "text/x-python",
   "name": "python",
   "nbconvert_exporter": "python",
   "pygments_lexer": "ipython3",
   "version": "3.7.1"
  },
  "latex_envs": {
   "LaTeX_envs_menu_present": true,
   "autoclose": false,
   "autocomplete": true,
   "bibliofile": "biblio.bib",
   "cite_by": "apalike",
   "current_citInitial": 1,
   "eqLabelWithNumbers": true,
   "eqNumInitial": 1,
   "hotkeys": {
    "equation": "Ctrl-E",
    "itemize": "Ctrl-I"
   },
   "labels_anchors": false,
   "latex_user_defs": false,
   "report_style_numbering": false,
   "user_envs_cfg": false
  },
  "toc": {
   "base_numbering": 1,
   "nav_menu": {},
   "number_sections": true,
   "sideBar": true,
   "skip_h1_title": false,
   "title_cell": "Table of Contents",
   "title_sidebar": "Contents",
   "toc_cell": false,
   "toc_position": {},
   "toc_section_display": true,
   "toc_window_display": false
  },
  "varInspector": {
   "cols": {
    "lenName": 16,
    "lenType": 16,
    "lenVar": 40
   },
   "kernels_config": {
    "python": {
     "delete_cmd_postfix": "",
     "delete_cmd_prefix": "del ",
     "library": "var_list.py",
     "varRefreshCmd": "print(var_dic_list())"
    },
    "r": {
     "delete_cmd_postfix": ") ",
     "delete_cmd_prefix": "rm(",
     "library": "var_list.r",
     "varRefreshCmd": "cat(var_dic_list()) "
    }
   },
   "types_to_exclude": [
    "module",
    "function",
    "builtin_function_or_method",
    "instance",
    "_Feature"
   ],
   "window_display": true
  }
 },
 "nbformat": 4,
 "nbformat_minor": 2
}
