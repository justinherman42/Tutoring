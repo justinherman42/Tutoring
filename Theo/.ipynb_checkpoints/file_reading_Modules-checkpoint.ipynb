{
 "cells": [
  {
   "cell_type": "code",
   "execution_count": 162,
   "metadata": {},
   "outputs": [],
   "source": [
    "file = open('testfile.txt','w') \n",
    " \n",
    "file.write('Hello World\\n this is other studd\\n\"') \n",
    "file.write('This is our new text file \\n') \n",
    "file.write('and this is another lie \\n.') \n",
    "#file.write('Why? Because we can.') \n",
    "file.close()\n"
   ]
  },
  {
   "cell_type": "code",
   "execution_count": 163,
   "metadata": {},
   "outputs": [],
   "source": [
    "def ask_user_for_contact(files_name):\n",
    "    add_contact=\"Y\"\n",
    "    while add_contact ==\"Y\":\n",
    "        add_contact= input(\"Would you like to add a contact, please type 'Y' for yes and 'N' for no\")\n",
    "        if add_contact == \"Y\":\n",
    "            contact_name= input(\"please tell me your contact name\")\n",
    "            with open(files_name, 'a') as file:\n",
    "                file.write(contact_name)\n",
    "                file.write(\"\\n\")\n",
    "                file.close()\n",
    "            ## do something with contact \n",
    "        else: \n",
    "            with open(files_name, 'r') as reader:\n",
    "                for line in reader.readlines(): \n",
    "                    print(line, end='')\n",
    "            break\n",
    "    "
   ]
  },
  {
   "cell_type": "code",
   "execution_count": 164,
   "metadata": {},
   "outputs": [
    {
     "name": "stdout",
     "output_type": "stream",
     "text": [
      "Would you like to add a contact, please type 'Y' for yes and 'N' for noY\n",
      "please tell me your contact nameJustin\n",
      "Would you like to add a contact, please type 'Y' for yes and 'N' for noY\n",
      "please tell me your contact nameTHeo\n",
      "Would you like to add a contact, please type 'Y' for yes and 'N' for noN\n",
      "Hello World\n",
      " this is other studd\n",
      "\"This is our new text file \n",
      "and this is another lie \n",
      ".Justin\n",
      "THeo\n"
     ]
    }
   ],
   "source": [
    "ask_user_for_contact(\"testfile.txt\")"
   ]
  },
  {
   "cell_type": "code",
   "execution_count": 130,
   "metadata": {},
   "outputs": [
    {
     "data": {
      "text/plain": [
       "['Hello World this is other studd\\\\n\"This is our new text file\\n',\n",
       " 'and this is another lie\\n',\n",
       " '.']"
      ]
     },
     "execution_count": 130,
     "metadata": {},
     "output_type": "execute_result"
    }
   ],
   "source": [
    "file = open('testfile.txt','r') \n",
    "[x for x in file]"
   ]
  },
  {
   "cell_type": "code",
   "execution_count": 121,
   "metadata": {},
   "outputs": [
    {
     "ename": "TypeError",
     "evalue": "'builtin_function_or_method' object is not iterable",
     "output_type": "error",
     "traceback": [
      "\u001b[1;31m---------------------------------------------------------------------------\u001b[0m",
      "\u001b[1;31mTypeError\u001b[0m                                 Traceback (most recent call last)",
      "\u001b[1;32m<ipython-input-121-98b264464753>\u001b[0m in \u001b[0;36m<module>\u001b[1;34m\u001b[0m\n\u001b[1;32m----> 1\u001b[1;33m \u001b[0mmy_file\u001b[0m \u001b[1;33m=\u001b[0m \u001b[1;33m[\u001b[0m\u001b[0mx\u001b[0m \u001b[1;32mfor\u001b[0m \u001b[0mx\u001b[0m \u001b[1;32min\u001b[0m \u001b[0mfile\u001b[0m\u001b[1;33m.\u001b[0m\u001b[0mreadlines\u001b[0m\u001b[1;33m]\u001b[0m\u001b[1;33m\u001b[0m\u001b[1;33m\u001b[0m\u001b[0m\n\u001b[0m",
      "\u001b[1;31mTypeError\u001b[0m: 'builtin_function_or_method' object is not iterable"
     ]
    }
   ],
   "source": [
    "my_file = [x for x in file.readlines]"
   ]
  },
  {
   "cell_type": "code",
   "execution_count": 155,
   "metadata": {},
   "outputs": [
    {
     "name": "stdout",
     "output_type": "stream",
     "text": [
      "Hello World\n",
      " this is other studd\n",
      "\"This is our new text file \n",
      "and this is another lie \n",
      ".YYjustinTheoJustin/nTheo/nJustin herman\n"
     ]
    }
   ],
   "source": [
    "with open('testfile.txt', 'r') as reader:\n",
    "    for line in reader.readlines(): \n",
    "        print(line, end='')"
   ]
  },
  {
   "cell_type": "code",
   "execution_count": null,
   "metadata": {},
   "outputs": [],
   "source": [
    "path = 'names.txt'\n",
    "days_file = open(path,'r')\n",
    "days = days_file.read()\n",
    "\n",
    "\n",
    "new_path = '/users/sammy/new_days.txt'\n",
    "new_days = open(new_path,'w')\n",
    "\n",
    "title = 'Days of the Week\\n'\n",
    "new_days.write(title)\n",
    "print(title)\n",
    "\n",
    "new_days.write(days)\n",
    "print(days)\n",
    "\n",
    "days_file.close()\n",
    "new_days.close()"
   ]
  }
 ],
 "metadata": {
  "kernelspec": {
   "display_name": "Python 3",
   "language": "python",
   "name": "python3"
  },
  "language_info": {
   "codemirror_mode": {
    "name": "ipython",
    "version": 3
   },
   "file_extension": ".py",
   "mimetype": "text/x-python",
   "name": "python",
   "nbconvert_exporter": "python",
   "pygments_lexer": "ipython3",
   "version": "3.7.3"
  }
 },
 "nbformat": 4,
 "nbformat_minor": 2
}
