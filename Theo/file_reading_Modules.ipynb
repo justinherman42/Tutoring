{
 "cells": [
  {
   "cell_type": "markdown",
   "metadata": {},
   "source": [
    "## Reading and writing files\n",
    "+ When we read and write files we need to follow a common syntax typically\n",
    "+ The easiest way to do soemthing with a file is to call\n",
    "    with open(filename,\"action\") as our_file:\n",
    "        \n",
    "   To write - Write will create a new file, but be careful it will also erase any file that existed previously with the same file name\n",
    "   \n",
    "        with open(filename,\"w\") as our_file:\n",
    "            ourfile.write(variable to write)\n",
    "            ourfile.write(\\n) new line \n",
    "            ourfile.close()\n",
    "            \n",
    "   To read- read will allow you to look at whats inside the file, you will not be able to change the file itself.  Typically we use read, do things with our data, and when we want to write we just write the newly created object back \n",
    "   \n",
    "          with open(filename,\"r\") as our_file:\n",
    "            for line in ourfile.readlines():\n",
    "                print(line, end=\"\")\n",
    "            our_file.close()\n",
    "            \n",
    "   To append something to a previous file- this will allow us to open a file and add things to the end of the file\n",
    "   \n",
    "            with open(files_name, 'a') as file:\n",
    "                file.write(contact_name)\n",
    "                file.write(\"\\n\")\n",
    "                file.close()\n",
    "\n",
    "        "
   ]
  },
  {
   "cell_type": "code",
   "execution_count": 184,
   "metadata": {},
   "outputs": [],
   "source": [
    "def Create_contact_list(files_name):\n",
    "    with open(files_name, 'w') as file:\n",
    "        file.write(\"John Doe\")\n",
    "        file.write(\"\\n\")\n",
    "        file.write(\"Michael Smith\")\n",
    "        file.write(\"\\n\")\n",
    "        file.write(\"Mark Warner\")\n",
    "        file.write(\"\\n\")\n",
    "        file.close()\n",
    "\n",
    "\n",
    "\n",
    "\n",
    "def ask_user_for_contact(files_name):\n",
    "    add_contact=\"Y\"\n",
    "    while add_contact ==\"Y\":\n",
    "        add_contact= input(\"Would you like to add a contact, please type 'Y' for yes and 'N' for no\")\n",
    "        if add_contact == \"Y\":\n",
    "            contact_name= input(\"please tell me your contact name\")\n",
    "            with open(files_name, 'a') as file:\n",
    "                file.write(contact_name)\n",
    "                file.write(\"\\n\")\n",
    "                file.close()\n",
    "        ### view file\n",
    "        else: \n",
    "            with open(files_name, 'r') as reader:\n",
    "                for line in reader.readlines(): \n",
    "                    print(line, end='')\n",
    "                reader.close()\n",
    "            break\n",
    "    "
   ]
  },
  {
   "cell_type": "code",
   "execution_count": 185,
   "metadata": {},
   "outputs": [
    {
     "name": "stdout",
     "output_type": "stream",
     "text": [
      "John Doe\n",
      "Michael Smith\n",
      "Mark Warner\n"
     ]
    }
   ],
   "source": [
    "Create_contact_list(\"testfile.txt\")\n",
    "with open(\"testfile.txt\", 'r') as reader:\n",
    "                for line in reader.readlines(): \n",
    "                    print(line, end='')\n",
    "\n"
   ]
  },
  {
   "cell_type": "code",
   "execution_count": 186,
   "metadata": {},
   "outputs": [
    {
     "name": "stdout",
     "output_type": "stream",
     "text": [
      "Would you like to add a contact, please type 'Y' for yes and 'N' for noN\n",
      "John Doe\n",
      "Michael Smith\n",
      "Mark Warner\n"
     ]
    }
   ],
   "source": [
    "ask_user_for_contact(\"testfile.txt\")"
   ]
  },
  {
   "cell_type": "code",
   "execution_count": null,
   "metadata": {},
   "outputs": [],
   "source": []
  }
 ],
 "metadata": {
  "kernelspec": {
   "display_name": "Python 3",
   "language": "python",
   "name": "python3"
  },
  "language_info": {
   "codemirror_mode": {
    "name": "ipython",
    "version": 3
   },
   "file_extension": ".py",
   "mimetype": "text/x-python",
   "name": "python",
   "nbconvert_exporter": "python",
   "pygments_lexer": "ipython3",
   "version": "3.7.3"
  }
 },
 "nbformat": 4,
 "nbformat_minor": 2
}
