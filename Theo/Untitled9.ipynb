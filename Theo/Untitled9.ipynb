{
 "cells": [
  {
   "cell_type": "markdown",
   "metadata": {},
   "source": [
    "## What is a class\n",
    "+ A template for creating objects \n",
    "+ Allows you to build different instances with their own attributes"
   ]
  },
  {
   "cell_type": "code",
   "execution_count": 11,
   "metadata": {},
   "outputs": [
    {
     "name": "stdout",
     "output_type": "stream",
     "text": [
      "<__main__.Person object at 0x00000000074A7080>\n",
      "<__main__.Person object at 0x00000000074A7208>\n"
     ]
    }
   ],
   "source": [
    "# Create empty class: DataShell\n",
    "class Person:\n",
    "\n",
    "    # Pass statement\n",
    "    pass\n",
    "\n",
    "\n",
    "# Instantiate instance\n",
    "Theo = Person()\n",
    "Justin = Person()\n",
    "# Print Theo\n",
    "print(Theo)\n",
    "print(Justin)"
   ]
  },
  {
   "cell_type": "markdown",
   "metadata": {},
   "source": [
    "## Try to Recreate a simple class and call it"
   ]
  },
  {
   "cell_type": "code",
   "execution_count": null,
   "metadata": {},
   "outputs": [],
   "source": [
    "## Create class below. You can chose to create your own or copy the one above.  After you define class remeber you need to \n",
    "## add  \":\" and then indent your code. After you create the class instance\n",
    "class Person:\n",
    "    # Pass statement\n",
    "    pass\n",
    "\n",
    "\n",
    "##\n",
    "\n",
    "print()"
   ]
  },
  {
   "cell_type": "markdown",
   "metadata": {},
   "source": [
    "## What is an instance?\n",
    "What we created above are instances. Instances allow us to create an object with it's own personal attributes from a class.  Until we call their attributes, it's just printing the space in memory the object occupies.(It's gibberish).  But as you will see, this allows us the ability to create objects which we can edit and change without effecting other instances.  So if we make Justin and Theo, and decide to delete Theo, it doesn't affect Justin.  \n",
    "\n",
    "## What are attributes?\n",
    "\n",
    "Characteristics that describe an object.  Our object here is a person, so think about traits that describe people.  Name, gender, height, weight etc\n",
    "\n",
    "## How do we define an attribute\n",
    "\n",
    "The first step in building a class, is to build the __init__ . The init includes the attributes we want to add. The structure for an init class is always the same and has to exist in every single class you create.  We must call self, and any other attirbutes we want to create.  Below we want to create name and gender so\n",
    "\n",
    "def __init__(self, name,gender)\n",
    "\n",
    "To define those attributes we need to call:\n",
    "\n",
    "self.attribute= attribute\n",
    "\n",
    "\n"
   ]
  },
  {
   "cell_type": "code",
   "execution_count": 41,
   "metadata": {},
   "outputs": [
    {
     "name": "stdout",
     "output_type": "stream",
     "text": [
      "<__main__.Person object at 0x00000000074C4DD8>\n"
     ]
    }
   ],
   "source": [
    "# call init method\n",
    "\n",
    "\n",
    "class Person:\n",
    "    def __init__(self, name, gender):\n",
    "        self.name = name\n",
    "        self.gender = gender\n",
    "\n",
    "\n",
    "# Instantiate instance\n",
    "justin = Person(name=\"Justin\", gender=\"Male\")\n",
    "# Print Justin\n",
    "print(justin)"
   ]
  },
  {
   "cell_type": "code",
   "execution_count": 42,
   "metadata": {},
   "outputs": [
    {
     "name": "stdout",
     "output_type": "stream",
     "text": [
      "Justin\n"
     ]
    }
   ],
   "source": [
    "print(justin.name)"
   ]
  },
  {
   "cell_type": "code",
   "execution_count": 43,
   "metadata": {},
   "outputs": [
    {
     "name": "stdout",
     "output_type": "stream",
     "text": [
      "Male\n"
     ]
    }
   ],
   "source": [
    "print(justin.gender)\n"
   ]
  },
  {
   "cell_type": "markdown",
   "metadata": {},
   "source": [
    "What if we want to add attirbutes that all people have, like eyes and ears?"
   ]
  },
  {
   "cell_type": "code",
   "execution_count": 26,
   "metadata": {},
   "outputs": [],
   "source": [
    "# call init method\n",
    "class Person:\n",
    "    eyes = 2\n",
    "    ears = 2\n",
    "    def __init__(self, name,gender):\n",
    "        self.name = name\n",
    "        self.gender= gender\n",
    "\n"
   ]
  },
  {
   "cell_type": "code",
   "execution_count": 27,
   "metadata": {},
   "outputs": [
    {
     "data": {
      "text/plain": [
       "2"
      ]
     },
     "execution_count": 27,
     "metadata": {},
     "output_type": "execute_result"
    }
   ],
   "source": [
    "justin = Person(\"Justin\",\"Male\")\n",
    "justin.eyes"
   ]
  },
  {
   "cell_type": "markdown",
   "metadata": {},
   "source": [
    "Now try and practice Build your own Person.  Remember you need to call the Person's name and gender when building the instance"
   ]
  },
  {
   "cell_type": "code",
   "execution_count": null,
   "metadata": {},
   "outputs": [],
   "source": [
    "## Fill in blank Buiild own person instance\n"
   ]
  },
  {
   "cell_type": "markdown",
   "metadata": {},
   "source": [
    "We can also override permanent attributes, perhaps Justin lost an eye"
   ]
  },
  {
   "cell_type": "code",
   "execution_count": 29,
   "metadata": {},
   "outputs": [
    {
     "name": "stdout",
     "output_type": "stream",
     "text": [
      "2\n"
     ]
    }
   ],
   "source": [
    "print(justin.eyes)"
   ]
  },
  {
   "cell_type": "code",
   "execution_count": 31,
   "metadata": {},
   "outputs": [
    {
     "name": "stdout",
     "output_type": "stream",
     "text": [
      "1\n"
     ]
    }
   ],
   "source": [
    "justin.eyes=1\n",
    "print(justin.eyes)"
   ]
  },
  {
   "cell_type": "markdown",
   "metadata": {},
   "source": [
    "## What is a Method?\n",
    "\n",
    "Methods are functions which can operate on our instances.  \n",
    "\n",
    "Below i added the attribute favorite sport.  So when you declare this next instance, we need to add that attribute.  I do this because we are going to create a method which prints our instances favorite sport\n"
   ]
  },
  {
   "cell_type": "code",
   "execution_count": 192,
   "metadata": {},
   "outputs": [
    {
     "data": {
      "text/plain": [
       "'baseball'"
      ]
     },
     "execution_count": 192,
     "metadata": {},
     "output_type": "execute_result"
    }
   ],
   "source": [
    "class Person:\n",
    "    eyes = 2\n",
    "    ears = 2\n",
    "\n",
    "    def __init__(self, name, gender, favorite_sport):\n",
    "        self.name = name\n",
    "        self.gender = gender\n",
    "        self.favorite_sport = favorite_sport\n",
    "\n",
    "    def print_favorite_sport(self):\n",
    "\n",
    "        print(self.name  + \"'s favorite sport is \"+ self.favorite_sport)\n",
    "\n",
    "    def change_gender(self, new_gender):\n",
    "        self.gender = new_gender\n",
    "        return (self.gender)\n",
    "\n",
    "\n",
    "justin = Person(name=\"Justin\", gender=\"Male\", favorite_sport=\"baseball\")\n",
    "\n",
    "justin.favorite_sport"
   ]
  },
  {
   "cell_type": "code",
   "execution_count": 196,
   "metadata": {},
   "outputs": [
    {
     "name": "stdout",
     "output_type": "stream",
     "text": [
      "Justin's favorite sport is baseball\n"
     ]
    }
   ],
   "source": [
    "justin.print_favorite_sport()"
   ]
  },
  {
   "cell_type": "code",
   "execution_count": 194,
   "metadata": {},
   "outputs": [
    {
     "data": {
      "text/plain": [
       "'female'"
      ]
     },
     "execution_count": 194,
     "metadata": {},
     "output_type": "execute_result"
    }
   ],
   "source": [
    "justin.change_gender(\"female\")"
   ]
  },
  {
   "cell_type": "code",
   "execution_count": 195,
   "metadata": {},
   "outputs": [
    {
     "data": {
      "text/plain": [
       "'female'"
      ]
     },
     "execution_count": 195,
     "metadata": {},
     "output_type": "execute_result"
    }
   ],
   "source": [
    "justin.gender"
   ]
  },
  {
   "cell_type": "markdown",
   "metadata": {},
   "source": [
    "You can see by calling change gender we have permanently changed the gender attribute.  Remember we have to return the object"
   ]
  },
  {
   "cell_type": "code",
   "execution_count": 197,
   "metadata": {},
   "outputs": [
    {
     "data": {
      "text/plain": [
       "<__main__.Person at 0x74a77f0>"
      ]
     },
     "execution_count": 197,
     "metadata": {},
     "output_type": "execute_result"
    }
   ],
   "source": [
    "Theo"
   ]
  },
  {
   "cell_type": "code",
   "execution_count": null,
   "metadata": {},
   "outputs": [],
   "source": []
  }
 ],
 "metadata": {
  "kernelspec": {
   "display_name": "Python 3",
   "language": "python",
   "name": "python3"
  },
  "language_info": {
   "codemirror_mode": {
    "name": "ipython",
    "version": 3
   },
   "file_extension": ".py",
   "mimetype": "text/x-python",
   "name": "python",
   "nbconvert_exporter": "python",
   "pygments_lexer": "ipython3",
   "version": "3.7.1"
  },
  "latex_envs": {
   "LaTeX_envs_menu_present": true,
   "autoclose": false,
   "autocomplete": true,
   "bibliofile": "biblio.bib",
   "cite_by": "apalike",
   "current_citInitial": 1,
   "eqLabelWithNumbers": true,
   "eqNumInitial": 1,
   "hotkeys": {
    "equation": "Ctrl-E",
    "itemize": "Ctrl-I"
   },
   "labels_anchors": false,
   "latex_user_defs": false,
   "report_style_numbering": false,
   "user_envs_cfg": false
  },
  "toc": {
   "base_numbering": 1,
   "nav_menu": {},
   "number_sections": true,
   "sideBar": true,
   "skip_h1_title": false,
   "title_cell": "Table of Contents",
   "title_sidebar": "Contents",
   "toc_cell": false,
   "toc_position": {},
   "toc_section_display": true,
   "toc_window_display": false
  },
  "varInspector": {
   "cols": {
    "lenName": 16,
    "lenType": 16,
    "lenVar": 40
   },
   "kernels_config": {
    "python": {
     "delete_cmd_postfix": "",
     "delete_cmd_prefix": "del ",
     "library": "var_list.py",
     "varRefreshCmd": "print(var_dic_list())"
    },
    "r": {
     "delete_cmd_postfix": ") ",
     "delete_cmd_prefix": "rm(",
     "library": "var_list.r",
     "varRefreshCmd": "cat(var_dic_list()) "
    }
   },
   "types_to_exclude": [
    "module",
    "function",
    "builtin_function_or_method",
    "instance",
    "_Feature"
   ],
   "window_display": true
  }
 },
 "nbformat": 4,
 "nbformat_minor": 2
}
