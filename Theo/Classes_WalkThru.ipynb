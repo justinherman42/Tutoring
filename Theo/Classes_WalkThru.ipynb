{
 "cells": [
  {
   "cell_type": "markdown",
   "metadata": {},
   "source": [
    "## What is a class\n",
    "+ A template for creating objects \n",
    "+ Allows you to build different instances with their own attributes"
   ]
  },
  {
   "cell_type": "code",
   "execution_count": 11,
   "metadata": {},
   "outputs": [
    {
     "name": "stdout",
     "output_type": "stream",
     "text": [
      "<__main__.Person object at 0x00000000074A7080>\n",
      "<__main__.Person object at 0x00000000074A7208>\n"
     ]
    }
   ],
   "source": [
    "# Create empty class: DataShell\n",
    "class Person:\n",
    "    pass\n",
    "\n",
    "\n",
    "# Instantiate instance\n",
    "Theo = Person()\n",
    "Justin = Person()\n",
    "# Print Theo\n",
    "print(Theo)\n",
    "print(Justin)"
   ]
  },
  {
   "cell_type": "markdown",
   "metadata": {},
   "source": [
    "## Try to Recreate a simple class and call it"
   ]
  },
  {
   "cell_type": "code",
   "execution_count": null,
   "metadata": {},
   "outputs": [],
   "source": [
    "## Create class below. You can chose to create your own or copy the one above.  After you define class remeber you need to \n",
    "## add  \":\" and then indent your code. After you create the class instance\n",
    "class Person:\n",
    "    # Pass statement\n",
    "    pass\n",
    "\n",
    "\n",
    "## create instance below \n",
    "\n",
    "\n",
    "print()"
   ]
  },
  {
   "cell_type": "markdown",
   "metadata": {},
   "source": [
    "## What is an instance?\n",
    "What we created above are instances. Instances allow us to create an object with it's own personal attributes from a class.  Until we call their attributes, it's just printing the space in memory the object occupies.(It's gibberish).  But as you will see, this allows us the ability to create objects which we can edit and change without effecting other instances.  So if we make Justin and Theo, and decide to delete Theo, it doesn't affect Justin.  \n",
    "\n",
    "## What are attributes?\n",
    "\n",
    "Characteristics that describe an object.  Our object here is a person, so think about traits that describe people.  Name, gender, height, weight etc\n",
    "\n",
    "## How do we define an attribute\n",
    "\n",
    "The first step in building a class, is to build the __init__ . The init includes the attributes we want to add. The structure for an init class is always the same and has to exist in every single class you create.  We must call self, and any other attirbutes we want to create.  Below we want to create name and gender so\n",
    "\n",
    "def __init__(self, name,gender)\n",
    "\n",
    "To define those attributes we need to call:\n",
    "\n",
    "self.attribute= attribute\n",
    "\n",
    "\n"
   ]
  },
  {
   "cell_type": "code",
   "execution_count": 332,
   "metadata": {},
   "outputs": [
    {
     "name": "stdout",
     "output_type": "stream",
     "text": [
      "<__main__.Person object at 0x00000000074A7E10>\n",
      "Justin\n",
      "Male\n",
      "['__class__', '__delattr__', '__dict__', '__dir__', '__doc__', '__eq__', '__format__', '__ge__', '__getattribute__', '__gt__', '__hash__', '__init__', '__init_subclass__', '__le__', '__lt__', '__module__', '__ne__', '__new__', '__reduce__', '__reduce_ex__', '__repr__', '__setattr__', '__sizeof__', '__str__', '__subclasshook__', '__weakref__', 'gender', 'name']\n"
     ]
    },
    {
     "data": {
      "text/plain": [
       "<method-wrapper '__getattribute__' of Person object at 0x00000000074A7E10>"
      ]
     },
     "execution_count": 332,
     "metadata": {},
     "output_type": "execute_result"
    }
   ],
   "source": [
    "# call init method\n",
    "\n",
    "\n",
    "class Person:\n",
    "    def __init__(self, name, gender):\n",
    "        self.name = name\n",
    "        self.gender = gender\n",
    "\n",
    "\n",
    "# Instantiate instance\n",
    "justin = Person(name=\"Justin\", gender=\"Male\")\n",
    "# Print Justin\n",
    "print(justin)\n",
    "print(justin.name)\n",
    "print(justin.gender)\n",
    "\n",
    "\n",
    "\n",
    "### Extra \n",
    "\n",
    "#print(dir(justin))\n",
    "#justin.__getattribute__"
   ]
  },
  {
   "cell_type": "code",
   "execution_count": 42,
   "metadata": {},
   "outputs": [
    {
     "name": "stdout",
     "output_type": "stream",
     "text": [
      "Justin\n"
     ]
    }
   ],
   "source": [
    "print(justin.name)"
   ]
  },
  {
   "cell_type": "code",
   "execution_count": 43,
   "metadata": {},
   "outputs": [
    {
     "name": "stdout",
     "output_type": "stream",
     "text": [
      "Male\n"
     ]
    }
   ],
   "source": [
    "print(justin.gender)\n"
   ]
  },
  {
   "cell_type": "markdown",
   "metadata": {},
   "source": [
    "What if we want to add attirbutes that all people have, like eyes and ears?"
   ]
  },
  {
   "cell_type": "code",
   "execution_count": 26,
   "metadata": {},
   "outputs": [],
   "source": [
    "# call init method\n",
    "class Person:\n",
    "    eyes = 2\n",
    "    ears = 2\n",
    "    def __init__(self, name,gender):\n",
    "        self.name = name\n",
    "        self.gender= gender\n",
    "\n"
   ]
  },
  {
   "cell_type": "code",
   "execution_count": 27,
   "metadata": {},
   "outputs": [
    {
     "data": {
      "text/plain": [
       "2"
      ]
     },
     "execution_count": 27,
     "metadata": {},
     "output_type": "execute_result"
    }
   ],
   "source": [
    "justin = Person(\"Justin\",\"Male\")\n",
    "justin.eyes"
   ]
  },
  {
   "cell_type": "markdown",
   "metadata": {},
   "source": [
    "Now try and practice Build your own Person.  Remember you need to call the Person's name and gender when building the instance"
   ]
  },
  {
   "cell_type": "code",
   "execution_count": null,
   "metadata": {},
   "outputs": [],
   "source": [
    "## Fill in blank Buiild own person instance\n"
   ]
  },
  {
   "cell_type": "markdown",
   "metadata": {},
   "source": [
    "We can also override permanent attributes, perhaps Justin lost an eye"
   ]
  },
  {
   "cell_type": "code",
   "execution_count": 29,
   "metadata": {},
   "outputs": [
    {
     "name": "stdout",
     "output_type": "stream",
     "text": [
      "2\n"
     ]
    }
   ],
   "source": [
    "print(justin.eyes)"
   ]
  },
  {
   "cell_type": "code",
   "execution_count": 31,
   "metadata": {},
   "outputs": [
    {
     "name": "stdout",
     "output_type": "stream",
     "text": [
      "1\n"
     ]
    }
   ],
   "source": [
    "justin.eyes=1\n",
    "print(justin.eyes)"
   ]
  },
  {
   "cell_type": "markdown",
   "metadata": {},
   "source": [
    "## What is a Method?\n",
    "\n",
    "Methods are functions which can operate on our instances.  \n",
    "\n",
    "Below i added the attribute favorite sport.  So when you declare this next instance, we need to add that attribute.  I do this because we are going to create a method which prints our instances favorite sport\n"
   ]
  },
  {
   "cell_type": "code",
   "execution_count": 192,
   "metadata": {},
   "outputs": [
    {
     "data": {
      "text/plain": [
       "'baseball'"
      ]
     },
     "execution_count": 192,
     "metadata": {},
     "output_type": "execute_result"
    }
   ],
   "source": [
    "class Person:\n",
    "    eyes = 2\n",
    "    ears = 2\n",
    "\n",
    "    def __init__(self, name, gender, favorite_sport):\n",
    "        self.name = name\n",
    "        self.gender = gender\n",
    "        self.favorite_sport = favorite_sport\n",
    "\n",
    "    def print_favorite_sport(self):\n",
    "\n",
    "        print(self.name  + \"'s favorite sport is \"+ self.favorite_sport)\n",
    "\n",
    "    def change_gender(self, new_gender):\n",
    "        self.gender = new_gender\n",
    "        return (self.gender)\n",
    "\n",
    "\n",
    "justin = Person(name=\"Justin\", gender=\"Male\", favorite_sport=\"baseball\")\n",
    "\n",
    "justin.favorite_sport"
   ]
  },
  {
   "cell_type": "code",
   "execution_count": 196,
   "metadata": {},
   "outputs": [
    {
     "name": "stdout",
     "output_type": "stream",
     "text": [
      "Justin's favorite sport is baseball\n"
     ]
    }
   ],
   "source": [
    "justin.print_favorite_sport()"
   ]
  },
  {
   "cell_type": "code",
   "execution_count": 194,
   "metadata": {},
   "outputs": [
    {
     "data": {
      "text/plain": [
       "'female'"
      ]
     },
     "execution_count": 194,
     "metadata": {},
     "output_type": "execute_result"
    }
   ],
   "source": [
    "justin.change_gender(\"female\")"
   ]
  },
  {
   "cell_type": "code",
   "execution_count": 195,
   "metadata": {},
   "outputs": [
    {
     "data": {
      "text/plain": [
       "'female'"
      ]
     },
     "execution_count": 195,
     "metadata": {},
     "output_type": "execute_result"
    }
   ],
   "source": [
    "justin.gender"
   ]
  },
  {
   "cell_type": "markdown",
   "metadata": {},
   "source": [
    "You can see by calling change gender we have permanently changed the gender attribute.  Remember we have to return the object"
   ]
  },
  {
   "cell_type": "code",
   "execution_count": 197,
   "metadata": {},
   "outputs": [
    {
     "data": {
      "text/plain": [
       "<__main__.Person at 0x74a77f0>"
      ]
     },
     "execution_count": 197,
     "metadata": {},
     "output_type": "execute_result"
    }
   ],
   "source": [
    "Theo"
   ]
  },
  {
   "cell_type": "markdown",
   "metadata": {},
   "source": [
    "## Dictionaries "
   ]
  },
  {
   "cell_type": "markdown",
   "metadata": {},
   "source": [
    "Build an empty dictionary"
   ]
  },
  {
   "cell_type": "code",
   "execution_count": null,
   "metadata": {},
   "outputs": [],
   "source": [
    "\n",
    "#Creating empty Dictionary\n",
    "\n",
    "# Creating an empty dict using empty brackets\n",
    "wordFrequency = {}\n",
    " \n",
    "# Creating an empty dict using dict()\n",
    "wordFrequency = dict()"
   ]
  },
  {
   "cell_type": "markdown",
   "metadata": {},
   "source": [
    "### Creating Dictionaries with counts"
   ]
  },
  {
   "cell_type": "code",
   "execution_count": 253,
   "metadata": {},
   "outputs": [
    {
     "data": {
      "text/plain": [
       "{'Hello': 7, 'hi': 10, 'there': 45, 'at': 23, 'this': 77}"
      ]
     },
     "execution_count": 253,
     "metadata": {},
     "output_type": "execute_result"
    }
   ],
   "source": [
    "wordFrequency = {\n",
    "\"Hello\" : 7,\n",
    "\"hi\" : 10,\n",
    "\"there\" : 45,\n",
    "\"at\" : 23,\n",
    "\"this\" : 77\n",
    "}\n",
    "wordFrequency\n",
    "\n",
    "\n",
    "wordFrequency = dict(Hello =  7, \n",
    "                     hi    = 10,\n",
    "                     there  = 45,\n",
    "                     at    = 23,\n",
    "                     this  = 77\n",
    "                     )\n",
    "\n",
    "wordFrequency"
   ]
  },
  {
   "cell_type": "markdown",
   "metadata": {},
   "source": [
    "### Create dictionary with Tuples\n",
    "+ remember we have to assign a variable to the result\n"
   ]
  },
  {
   "cell_type": "code",
   "execution_count": 265,
   "metadata": {},
   "outputs": [
    {
     "name": "stdout",
     "output_type": "stream",
     "text": [
      "<class 'dict'>\n",
      "{'Hello': 7, 'hi': 10, 'there': 45, 'at': 23, 'this': 77}\n"
     ]
    }
   ],
   "source": [
    "\n",
    "# List of tuples    \n",
    "listofTuples = [(\"Hello\" , 7), (\"hi\" , 10), (\"there\" , 45),(\"at\" , 23),(\"this\" , 77)]\n",
    "listofTuples = dict(listofTuples)\n",
    "print(type(listofTuples))\n",
    "print(listofTuples)"
   ]
  },
  {
   "cell_type": "markdown",
   "metadata": {},
   "source": [
    "### From two lists\n"
   ]
  },
  {
   "cell_type": "code",
   "execution_count": 327,
   "metadata": {},
   "outputs": [
    {
     "name": "stdout",
     "output_type": "stream",
     "text": [
      "<class 'dict'>\n",
      "{'Hello': 7, 'hi': 10, 'there': 45, 'at': 23, 'this': 77}\n"
     ]
    },
    {
     "data": {
      "text/plain": [
       "[('Hello', 7), ('hi', 10), ('there', 45), ('at', 23), ('this', 77)]"
      ]
     },
     "execution_count": 327,
     "metadata": {},
     "output_type": "execute_result"
    }
   ],
   "source": [
    "# List of strings\n",
    "listofStrings = [\"Hello\", \"hi\", \"there\", \"at\", \"this\"]\n",
    "\n",
    "# List of ints\n",
    "listofInts = [7, 10, 45, 23, 77]\n",
    "wordFrequency = dict( zip(listofStrings,listofInts ))\n",
    "print(type(wordFrequency))\n",
    "print(wordFrequency)\n",
    "\n",
    "## If you want to see the items in the zip, turn them into a list otherwise you will just see the zip object\n",
    "list(zip(listofStrings,listofInts ))"
   ]
  },
  {
   "cell_type": "markdown",
   "metadata": {},
   "source": [
    "### How do we access keys and values in dictionary? "
   ]
  },
  {
   "cell_type": "code",
   "execution_count": 306,
   "metadata": {},
   "outputs": [
    {
     "data": {
      "text/plain": [
       "7"
      ]
     },
     "execution_count": 306,
     "metadata": {},
     "output_type": "execute_result"
    }
   ],
   "source": [
    "# Can call directly\n",
    "wordFrequency['Hello']\n",
    "\n",
    "#print(type(wordFrequency['Hello']), wordFrequency['Hello'] )"
   ]
  },
  {
   "cell_type": "code",
   "execution_count": 307,
   "metadata": {},
   "outputs": [
    {
     "name": "stdout",
     "output_type": "stream",
     "text": [
      "dict keys are: dict_keys(['Hello', 'hi', 'there', 'at', 'this'])\n",
      "dict values are: dict_values([7, 10, 45, 23, 77])\n"
     ]
    }
   ],
   "source": [
    "# can call keys only\n",
    "\n",
    "print(\"dict keys are:\", wordFrequency.keys())\n",
    "\n",
    "## can call values\n",
    "print(\"dict values are:\", wordFrequency.values())"
   ]
  },
  {
   "cell_type": "code",
   "execution_count": 283,
   "metadata": {},
   "outputs": [
    {
     "data": {
      "text/plain": [
       "'Hello'"
      ]
     },
     "execution_count": 283,
     "metadata": {},
     "output_type": "execute_result"
    }
   ],
   "source": [
    "## What if we want to grab first key( be careful this is a bad idea dictionary's don't preserve order)\n",
    "## we can covert to a list and then call that index\n",
    "list(wordFrequency.keys())[0]"
   ]
  },
  {
   "cell_type": "markdown",
   "metadata": {},
   "source": [
    "### More advanced look \n",
    "\n",
    "#### list comprehensions "
   ]
  },
  {
   "cell_type": "code",
   "execution_count": 275,
   "metadata": {},
   "outputs": [
    {
     "data": {
      "text/plain": [
       "['Hello', 'hi', 'there', 'at', 'this']"
      ]
     },
     "execution_count": 275,
     "metadata": {},
     "output_type": "execute_result"
    }
   ],
   "source": [
    "[key for key in wordFrequency.keys()]"
   ]
  },
  {
   "cell_type": "code",
   "execution_count": null,
   "metadata": {},
   "outputs": [],
   "source": [
    "[key for key in wordFrequency.keys() if key.startswith(\"H\")]"
   ]
  },
  {
   "cell_type": "code",
   "execution_count": null,
   "metadata": {},
   "outputs": [],
   "source": [
    "#### Nested dictionaries"
   ]
  },
  {
   "cell_type": "code",
   "execution_count": 312,
   "metadata": {},
   "outputs": [
    {
     "name": "stdout",
     "output_type": "stream",
     "text": [
      "<class 'dict'>\n",
      "even through we are looking at the value for the dicitonary key, the value is actually of type <class 'dict'>\n",
      " now we can see we are looking at a string <class 'str'> Tom Jones\n"
     ]
    },
    {
     "data": {
      "text/plain": [
       "'Tom Jones'"
      ]
     },
     "execution_count": 312,
     "metadata": {},
     "output_type": "execute_result"
    }
   ],
   "source": [
    "\n",
    "\n",
    "my_dict = {\"Tom\": {\"name\": \"Tom Jones\", \"address\": \"1 Fairylane\", \"phone\": \"911\"}, \n",
    "           \"Bob\": {\"name\": \"Bob Marley\", \"address\": \"2 Fairylane\", \"phone\": \"0800838383\"}\n",
    "           }\n",
    "print(type(my_dict))\n",
    "## This nested dictionary actually contains a dictionary as the value \n",
    "print(\"even through we are looking at the value for the dicitonary key, the value is actually of type\", type(my_dict['Tom']))\n",
    "my_dict['Tom']\n",
    "\n",
    "## to get to the nested dictionary we need to call it \n",
    "print(\" now we can see we are looking at a string\",type(my_dict['Tom']['name']),my_dict['Tom']['name'] )\n",
    "##\n",
    "my_dict['Tom']['name']"
   ]
  },
  {
   "cell_type": "code",
   "execution_count": 200,
   "metadata": {},
   "outputs": [],
   "source": [
    "my_dict = {\"Tom\": {\"name\": \"Tom Jones\", \"address\": \"1 Fairylane\", \"phone\": \"911\"}, \n",
    "           \"Bob\": {\"name\": \"Bob Marley\", \"address\": \"2 Fairylane\", \"phone\": \"0800838383\"}\n",
    "           }\n",
    "\n",
    "\n",
    "#contacts = {}\n",
    "#contacts['Tom'] = [\"1 Fairylane\", 911]\n",
    "#contacts['Bob'] = [\"2 Fairylane\", 0800838383]"
   ]
  },
  {
   "cell_type": "code",
   "execution_count": 244,
   "metadata": {},
   "outputs": [
    {
     "data": {
      "text/plain": [
       "{'name': 'Tom Jones', 'address': '1 Fairylane', 'phone': '911'}"
      ]
     },
     "execution_count": 244,
     "metadata": {},
     "output_type": "execute_result"
    }
   ],
   "source": [
    "my_dict[\"Tom\"]"
   ]
  },
  {
   "cell_type": "markdown",
   "metadata": {},
   "source": [
    "#### To look at keys or values we can create a loop"
   ]
  },
  {
   "cell_type": "code",
   "execution_count": 313,
   "metadata": {},
   "outputs": [
    {
     "name": "stdout",
     "output_type": "stream",
     "text": [
      "Tom\n",
      "{'name': 'Tom Jones', 'address': '1 Fairylane', 'phone': '911'}\n",
      "Bob\n",
      "{'name': 'Bob Marley', 'address': '2 Fairylane', 'phone': '0800838383'}\n"
     ]
    }
   ],
   "source": [
    "for k,v in my_dict.items():\n",
    "    print(k)\n",
    "    print (v)"
   ]
  },
  {
   "cell_type": "code",
   "execution_count": 316,
   "metadata": {},
   "outputs": [],
   "source": [
    "#### Remmber dictionary dont maintain order, we can use sorted to maintain order"
   ]
  },
  {
   "cell_type": "code",
   "execution_count": 317,
   "metadata": {},
   "outputs": [
    {
     "name": "stdout",
     "output_type": "stream",
     "text": [
      "Bob {'name': 'Bob Marley', 'address': '2 Fairylane', 'phone': '0800838383'}\n",
      "Tom {'name': 'Tom Jones', 'address': '1 Fairylane', 'phone': '911'}\n"
     ]
    }
   ],
   "source": [
    "for key, value in sorted(my_dict.items()):\n",
    "    print (key, value)"
   ]
  },
  {
   "cell_type": "markdown",
   "metadata": {},
   "source": [
    "#### Using dictionary to keep count of items in a list"
   ]
  },
  {
   "cell_type": "code",
   "execution_count": 322,
   "metadata": {},
   "outputs": [
    {
     "name": "stdout",
     "output_type": "stream",
     "text": [
      "{'apple': 2, 'bananna': 1}\n"
     ]
    }
   ],
   "source": [
    "count = {}\n",
    "my_items=[\"apple\",\"bananna\",\"apple\"]\n",
    "for element in my_items:\n",
    "    count[element] = count.get(element, 0) + 1\n",
    "print (count)"
   ]
  },
  {
   "cell_type": "code",
   "execution_count": 323,
   "metadata": {},
   "outputs": [
    {
     "name": "stdout",
     "output_type": "stream",
     "text": [
      "{'iphone': 2007, 'iphone 3G': 2008, 'iphone 3GS': 2009, 'iphone 4': 2010, 'iphone 4S': 2011, 'iphone 5': 2012}\n"
     ]
    }
   ],
   "source": [
    "#the syntax is: mydict[key] = \"value\"\n",
    "released = {\"iphone\" : 2007,\n",
    "            \"iphone 3G\" : 2008,\n",
    "            \"iphone 3GS\" : 2009,\n",
    "            \"iphone 4\" : 2010,\n",
    "            \"iphone 4S\" : 2011,\n",
    "            \"iphone 5\" : 2012}\n",
    "print (released)"
   ]
  }
 ],
 "metadata": {
  "kernelspec": {
   "display_name": "Python 3",
   "language": "python",
   "name": "python3"
  },
  "language_info": {
   "codemirror_mode": {
    "name": "ipython",
    "version": 3
   },
   "file_extension": ".py",
   "mimetype": "text/x-python",
   "name": "python",
   "nbconvert_exporter": "python",
   "pygments_lexer": "ipython3",
   "version": "3.7.1"
  },
  "latex_envs": {
   "LaTeX_envs_menu_present": true,
   "autoclose": false,
   "autocomplete": true,
   "bibliofile": "biblio.bib",
   "cite_by": "apalike",
   "current_citInitial": 1,
   "eqLabelWithNumbers": true,
   "eqNumInitial": 1,
   "hotkeys": {
    "equation": "Ctrl-E",
    "itemize": "Ctrl-I"
   },
   "labels_anchors": false,
   "latex_user_defs": false,
   "report_style_numbering": false,
   "user_envs_cfg": false
  },
  "toc": {
   "base_numbering": 1,
   "nav_menu": {},
   "number_sections": true,
   "sideBar": true,
   "skip_h1_title": false,
   "title_cell": "Table of Contents",
   "title_sidebar": "Contents",
   "toc_cell": false,
   "toc_position": {},
   "toc_section_display": true,
   "toc_window_display": false
  },
  "varInspector": {
   "cols": {
    "lenName": 16,
    "lenType": 16,
    "lenVar": 40
   },
   "kernels_config": {
    "python": {
     "delete_cmd_postfix": "",
     "delete_cmd_prefix": "del ",
     "library": "var_list.py",
     "varRefreshCmd": "print(var_dic_list())"
    },
    "r": {
     "delete_cmd_postfix": ") ",
     "delete_cmd_prefix": "rm(",
     "library": "var_list.r",
     "varRefreshCmd": "cat(var_dic_list()) "
    }
   },
   "types_to_exclude": [
    "module",
    "function",
    "builtin_function_or_method",
    "instance",
    "_Feature"
   ],
   "window_display": true
  }
 },
 "nbformat": 4,
 "nbformat_minor": 2
}
