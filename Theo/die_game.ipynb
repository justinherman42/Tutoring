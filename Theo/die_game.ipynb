{
 "cells": [
  {
   "cell_type": "markdown",
   "metadata": {},
   "source": [
    "## Buld the classes"
   ]
  },
  {
   "cell_type": "code",
   "execution_count": 170,
   "metadata": {},
   "outputs": [],
   "source": [
    "import random\n",
    "\n",
    "\n",
    "class DiceGame:\n",
    "    def __init__(self, dice1, dice2):\n",
    "        self.dice1 = dice1\n",
    "        self.dice2 = dice2\n",
    "\n",
    "    def play(self):\n",
    "        self.dice1.roll()\n",
    "        self.dice2.roll()\n",
    "        print(self.dice1)\n",
    "        print(self.dice2)\n",
    "        print(\"Face Value: \",self.dice1.faceValue+self.dice2.faceValue)\n",
    "        \n",
    "        \n",
    "    \n",
    "\n",
    "class Dice:\n",
    "    def __init__(self):\n",
    "        self.faceValue = None\n",
    "        self.face = None\n",
    "    def roll(self):\n",
    "        self.faceValue = random.randint(1, 6)\n",
    "        if self.faceValue == 1:\n",
    "            self.face = ' -----\\n| o   |\\n|     |\\n|     |\\n -----'\n",
    "        elif self.faceValue == 2:\n",
    "            self.face = ' -----\\n| o o |\\n|     |\\n|     |\\n -----'\n",
    "        elif self.faceValue == 3:\n",
    "            self.face = ' -----\\n| o o |\\n| o   |\\n|     |\\n -----'\n",
    "        elif self.faceValue == 4:\n",
    "            self.face = ' -----\\n| o o |\\n| o o |\\n|     |\\n -----'\n",
    "        elif self.faceValue == 5:\n",
    "            self.face = ' -----\\n| o o |\\n| o o |\\n| o   |\\n -----'\n",
    "        elif self.faceValue == 6:\n",
    "            self.face = ' -----\\n| o o |\\n| o o |\\n| o o |\\n -----'\n",
    "    def __str__(self):\n",
    "            return self.face"
   ]
  },
  {
   "cell_type": "markdown",
   "metadata": {},
   "source": [
    "## Test on Dice 1"
   ]
  },
  {
   "cell_type": "code",
   "execution_count": 173,
   "metadata": {},
   "outputs": [
    {
     "name": "stdout",
     "output_type": "stream",
     "text": [
      " -----\n",
      "| o o |\n",
      "| o o |\n",
      "| o   |\n",
      " -----\n",
      "5\n"
     ]
    }
   ],
   "source": [
    "die1=Dice()\n",
    "die1.roll()\n",
    "die1.face\n",
    "print(die1)\n",
    "print(die1.faceValue)"
   ]
  },
  {
   "cell_type": "markdown",
   "metadata": {},
   "source": [
    "## Play the Game\n"
   ]
  },
  {
   "cell_type": "code",
   "execution_count": 167,
   "metadata": {},
   "outputs": [
    {
     "name": "stdout",
     "output_type": "stream",
     "text": [
      " -----\n",
      "| o   |\n",
      "|     |\n",
      "|     |\n",
      " -----\n",
      " -----\n",
      "| o   |\n",
      "|     |\n",
      "|     |\n",
      " -----\n",
      "Face Value:  2\n"
     ]
    }
   ],
   "source": [
    "game1=DiceGame(dice1=Dice(),dice2=Dice())\n",
    "game1.play()"
   ]
  },
  {
   "cell_type": "code",
   "execution_count": 93,
   "metadata": {},
   "outputs": [],
   "source": [
    "die1.roll()"
   ]
  },
  {
   "cell_type": "code",
   "execution_count": 94,
   "metadata": {},
   "outputs": [
    {
     "data": {
      "text/plain": [
       "3"
      ]
     },
     "execution_count": 94,
     "metadata": {},
     "output_type": "execute_result"
    }
   ],
   "source": [
    "die1.face"
   ]
  },
  {
   "cell_type": "code",
   "execution_count": 169,
   "metadata": {},
   "outputs": [
    {
     "name": "stdout",
     "output_type": "stream",
     "text": [
      " -----\n",
      "| o o |\n",
      "| o   |\n",
      "|     |\n",
      " -----\n"
     ]
    }
   ],
   "source": [
    "print(die1.face)"
   ]
  },
  {
   "cell_type": "code",
   "execution_count": 96,
   "metadata": {},
   "outputs": [
    {
     "data": {
      "text/plain": [
       "'<__main__.Dice object at 0x00000000073082E8>'"
      ]
     },
     "execution_count": 96,
     "metadata": {},
     "output_type": "execute_result"
    }
   ],
   "source": []
  },
  {
   "cell_type": "code",
   "execution_count": 49,
   "metadata": {},
   "outputs": [
    {
     "name": "stdout",
     "output_type": "stream",
     "text": [
      " -----\n",
      "| o o |\n",
      "| o o |\n",
      "| o o |\n",
      " -----\n",
      " -----\n",
      "| o o |\n",
      "| o o |\n",
      "| o   |\n",
      " -----\n",
      " -----\n",
      "| o o |\n",
      "| o o |\n",
      "|     |\n",
      " -----\n",
      " -----\n",
      "| o o |\n",
      "| o   |\n",
      "|     |\n",
      " -----\n",
      " -----\n",
      "| o o |\n",
      "|     |\n",
      "|     |\n",
      " -----\n",
      " -----\n",
      "| o   |\n",
      "|     |\n",
      "|     |\n",
      " -----\n"
     ]
    }
   ],
   "source": [
    "print(' -----\\n| o o |\\n| o o |\\n| o o |\\n -----')\n",
    "print(' -----\\n| o o |\\n| o o |\\n| o   |\\n -----')\n",
    "print(' -----\\n| o o |\\n| o o |\\n|     |\\n -----')\n",
    "print(' -----\\n| o o |\\n| o   |\\n|     |\\n -----')\n",
    "print(' -----\\n| o o |\\n|     |\\n|     |\\n -----')\n",
    "print(' -----\\n| o   |\\n|     |\\n|     |\\n -----')"
   ]
  },
  {
   "cell_type": "code",
   "execution_count": 131,
   "metadata": {},
   "outputs": [
    {
     "name": "stdout",
     "output_type": "stream",
     "text": [
      "<class '__main__.Person'>\n"
     ]
    }
   ],
   "source": []
  },
  {
   "cell_type": "code",
   "execution_count": null,
   "metadata": {},
   "outputs": [],
   "source": []
  }
 ],
 "metadata": {
  "kernelspec": {
   "display_name": "Python 3",
   "language": "python",
   "name": "python3"
  },
  "language_info": {
   "codemirror_mode": {
    "name": "ipython",
    "version": 3
   },
   "file_extension": ".py",
   "mimetype": "text/x-python",
   "name": "python",
   "nbconvert_exporter": "python",
   "pygments_lexer": "ipython3",
   "version": "3.7.1"
  },
  "latex_envs": {
   "LaTeX_envs_menu_present": true,
   "autoclose": false,
   "autocomplete": true,
   "bibliofile": "biblio.bib",
   "cite_by": "apalike",
   "current_citInitial": 1,
   "eqLabelWithNumbers": true,
   "eqNumInitial": 1,
   "hotkeys": {
    "equation": "Ctrl-E",
    "itemize": "Ctrl-I"
   },
   "labels_anchors": false,
   "latex_user_defs": false,
   "report_style_numbering": false,
   "user_envs_cfg": false
  },
  "toc": {
   "base_numbering": 1,
   "nav_menu": {},
   "number_sections": true,
   "sideBar": true,
   "skip_h1_title": false,
   "title_cell": "Table of Contents",
   "title_sidebar": "Contents",
   "toc_cell": false,
   "toc_position": {},
   "toc_section_display": true,
   "toc_window_display": false
  },
  "varInspector": {
   "cols": {
    "lenName": 16,
    "lenType": 16,
    "lenVar": 40
   },
   "kernels_config": {
    "python": {
     "delete_cmd_postfix": "",
     "delete_cmd_prefix": "del ",
     "library": "var_list.py",
     "varRefreshCmd": "print(var_dic_list())"
    },
    "r": {
     "delete_cmd_postfix": ") ",
     "delete_cmd_prefix": "rm(",
     "library": "var_list.r",
     "varRefreshCmd": "cat(var_dic_list()) "
    }
   },
   "types_to_exclude": [
    "module",
    "function",
    "builtin_function_or_method",
    "instance",
    "_Feature"
   ],
   "window_display": true
  }
 },
 "nbformat": 4,
 "nbformat_minor": 2
}
