{
 "cells": [
  {
   "cell_type": "markdown",
   "metadata": {},
   "source": [
    "## Instructions( copy paste the below block only)\n",
    "+ I added the ?? for you to fill in. Delete them and fill in what belongs there\n",
    "+ Things to do\n",
    "    + Set user_continues to something\n",
    "    + Build while loop(what makes us exit while loop)\n",
    "    + Update the list\n",
    "        + To help you with updating the list read the instructions in line 12 \n",
    "        + You need to use your correct variable names though\n",
    "    + Ask the user if he wants to continue save it as something\n",
    "        + Think about what yo want to save this as, you want it to help you exit the loop\n",
    "    + Print the list"
   ]
  },
  {
   "cell_type": "code",
   "execution_count": 5,
   "metadata": {
    "collapsed": true
   },
   "outputs": [
    {
     "ename": "SyntaxError",
     "evalue": "invalid syntax (<ipython-input-5-8bab923ce810>, line 4)",
     "output_type": "error",
     "traceback": [
      "\u001b[1;36m  File \u001b[1;32m\"<ipython-input-5-8bab923ce810>\"\u001b[1;36m, line \u001b[1;32m4\u001b[0m\n\u001b[1;33m    user_continues=  ?????\u001b[0m\n\u001b[1;37m                     ^\u001b[0m\n\u001b[1;31mSyntaxError\u001b[0m\u001b[1;31m:\u001b[0m invalid syntax\n"
     ]
    }
   ],
   "source": [
    "\n",
    "integers_list=[]\n",
    "## Set user continues to something\n",
    "user_continues=  ?????\n",
    "\n",
    "## build out the while loop below by saying while user continues ==?? \n",
    "\n",
    "while ?????== ?????:\n",
    "    answer= input(\"please enter a number\")\n",
    "    while not str.isdigit(answer):\n",
    "        answer= input(\"please enter a number\")\n",
    "    \n",
    "    ## Outside of the loop first convert users answer to an integer- hint int(something)\n",
    "    ??????\n",
    "    \n",
    "    ## update integers list with append: strucutre for this is  mylist.append(thing_to_add)\n",
    "    ?????\n",
    "    \n",
    "    ## ask user if they want to continue playing.  Change \n",
    "    ????= input(??????)  \n",
    "\n",
    "## Exit while loop \n",
    "## Print the list\n",
    "## Run the script at this point and make sure the integers_list prints correctly.  \n",
    "## If you didnt fix all of my ???? above, the script will not run \n",
    "\n",
    "print(integers_list)\n",
    "\n"
   ]
  },
  {
   "cell_type": "markdown",
   "metadata": {},
   "source": [
    "## Almost Done!!!\n",
    "+ Add the rest of this code to bottom of your script after the above ran correctly, \n",
    "+ I show you how to call len to get the count, the other functions are all similar in syntax\n",
    "   + You need to build the average and range using other functions I give the syntax as well\n",
    "+ i converted the values you are going to compute to str for you in print statements, but you can use %s if you would like or the {}.format(variable) that we went over \n"
   ]
  },
  {
   "cell_type": "code",
   "execution_count": 15,
   "metadata": {},
   "outputs": [
    {
     "data": {
      "text/plain": [
       "5"
      ]
     },
     "execution_count": 15,
     "metadata": {},
     "output_type": "execute_result"
    }
   ],
   "source": [
    "my_list=[2,3,66,5,4]\n",
    "## get count on list..should use len, i show oyu this one so you know the syntax\n",
    "len(my_list)\n",
    "## call minimum on list\n",
    "print(\"min: \" + str( ???? )    )\n",
    "##call maximum on list\n",
    "print(\"max: \" + str( ????? )     )\n",
    "## creat an average average on list sum(list)/ len(list)\n",
    "print(\"average: \" + str( ???? / ?????)   )\n",
    "## build a range which is the max(list)- min(list)\n",
    "print(\"range: \" + str( ???? - ???? )  )"
   ]
  }
 ],
 "metadata": {
  "kernelspec": {
   "display_name": "Python 3",
   "language": "python",
   "name": "python3"
  },
  "language_info": {
   "codemirror_mode": {
    "name": "ipython",
    "version": 3
   },
   "file_extension": ".py",
   "mimetype": "text/x-python",
   "name": "python",
   "nbconvert_exporter": "python",
   "pygments_lexer": "ipython3",
   "version": "3.7.1"
  },
  "latex_envs": {
   "LaTeX_envs_menu_present": true,
   "autoclose": false,
   "autocomplete": true,
   "bibliofile": "biblio.bib",
   "cite_by": "apalike",
   "current_citInitial": 1,
   "eqLabelWithNumbers": true,
   "eqNumInitial": 1,
   "hotkeys": {
    "equation": "Ctrl-E",
    "itemize": "Ctrl-I"
   },
   "labels_anchors": false,
   "latex_user_defs": false,
   "report_style_numbering": false,
   "user_envs_cfg": false
  },
  "toc": {
   "base_numbering": 1,
   "nav_menu": {},
   "number_sections": true,
   "sideBar": true,
   "skip_h1_title": false,
   "title_cell": "Table of Contents",
   "title_sidebar": "Contents",
   "toc_cell": false,
   "toc_position": {},
   "toc_section_display": true,
   "toc_window_display": false
  },
  "varInspector": {
   "cols": {
    "lenName": 16,
    "lenType": 16,
    "lenVar": 40
   },
   "kernels_config": {
    "python": {
     "delete_cmd_postfix": "",
     "delete_cmd_prefix": "del ",
     "library": "var_list.py",
     "varRefreshCmd": "print(var_dic_list())"
    },
    "r": {
     "delete_cmd_postfix": ") ",
     "delete_cmd_prefix": "rm(",
     "library": "var_list.r",
     "varRefreshCmd": "cat(var_dic_list()) "
    }
   },
   "position": {
    "height": "144.444px",
    "left": "1324.11px",
    "right": "20px",
    "top": "747.99px",
    "width": "350px"
   },
   "types_to_exclude": [
    "module",
    "function",
    "builtin_function_or_method",
    "instance",
    "_Feature"
   ],
   "window_display": true
  }
 },
 "nbformat": 4,
 "nbformat_minor": 2
}
