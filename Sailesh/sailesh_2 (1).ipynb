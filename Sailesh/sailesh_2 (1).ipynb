{
 "cells": [
  {
   "cell_type": "markdown",
   "metadata": {},
   "source": [
    "### Cool thing about Notebooks\n",
    "+ we're building a function, unlike scripts, notebooks let us execute whatever we want when we wnat by compartmentailizing things into a code block\n",
    "+ Click on the block below and press shift enter"
   ]
  },
  {
   "cell_type": "code",
   "execution_count": 65,
   "metadata": {},
   "outputs": [
    {
     "name": "stdout",
     "output_type": "stream",
     "text": [
      "4\n"
     ]
    }
   ],
   "source": [
    "a=2+ 2\n",
    "print (a)"
   ]
  },
  {
   "cell_type": "markdown",
   "metadata": {},
   "source": [
    "## Now go into the block below and run Print statement again with shift+ enter\n"
   ]
  },
  {
   "cell_type": "code",
   "execution_count": 66,
   "metadata": {},
   "outputs": [
    {
     "name": "stdout",
     "output_type": "stream",
     "text": [
      "4\n"
     ]
    }
   ],
   "source": [
    "print(a)"
   ]
  },
  {
   "cell_type": "markdown",
   "metadata": {},
   "source": [
    "## Notice that you didnt have to run the entire script again, a is simply there\n",
    "+ danger of this is that there is no set order of execution.  When you run a script it starts at line 1 enters thigns into memory and continues until the end.  Notebooks will store whatever you have executed in memory for as long as your session is active.  You need to restart session or kernel in menu above kenrel--restart and run script\n",
    "+ but this allows us an awesome testing environment.  if we want to see how something works, we put it in a block and can rapidly start testing it.  Which we will do with function below"
   ]
  },
  {
   "cell_type": "code",
   "execution_count": 67,
   "metadata": {},
   "outputs": [
    {
     "ename": "KeyboardInterrupt",
     "evalue": "",
     "output_type": "error",
     "traceback": [
      "\u001b[1;31m---------------------------------------------------------------------------\u001b[0m",
      "\u001b[1;31mKeyboardInterrupt\u001b[0m                         Traceback (most recent call last)",
      "\u001b[1;32m<ipython-input-67-8641e61b9eac>\u001b[0m in \u001b[0;36m<module>\u001b[1;34m\u001b[0m\n\u001b[0;32m     59\u001b[0m     \u001b[0mrnd_data\u001b[0m \u001b[1;33m=\u001b[0m \u001b[1;33m[\u001b[0m\u001b[0mrnd_x\u001b[0m\u001b[1;33m,\u001b[0m\u001b[0mrnd_y\u001b[0m\u001b[1;33m]\u001b[0m\u001b[1;33m\u001b[0m\u001b[1;33m\u001b[0m\u001b[0m\n\u001b[0;32m     60\u001b[0m \u001b[1;33m\u001b[0m\u001b[0m\n\u001b[1;32m---> 61\u001b[1;33m     \u001b[0mtrained_model\u001b[0m \u001b[1;33m=\u001b[0m \u001b[0mtrain_perceptron\u001b[0m\u001b[1;33m(\u001b[0m\u001b[0mrnd_data\u001b[0m\u001b[1;33m)\u001b[0m\u001b[1;33m\u001b[0m\u001b[1;33m\u001b[0m\u001b[0m\n\u001b[0m\u001b[0;32m     62\u001b[0m     \u001b[0mprint\u001b[0m\u001b[1;33m(\u001b[0m\u001b[1;34m\"Model:\"\u001b[0m\u001b[1;33m,\u001b[0m \u001b[0mtrained_model\u001b[0m\u001b[1;33m)\u001b[0m\u001b[1;33m\u001b[0m\u001b[1;33m\u001b[0m\u001b[0m\n\u001b[0;32m     63\u001b[0m     \u001b[0mprint_prediction\u001b[0m\u001b[1;33m(\u001b[0m\u001b[0mtrained_model\u001b[0m\u001b[1;33m,\u001b[0m \u001b[0mrnd_x\u001b[0m\u001b[1;33m)\u001b[0m\u001b[1;33m\u001b[0m\u001b[1;33m\u001b[0m\u001b[0m\n",
      "\u001b[1;32m<ipython-input-67-8641e61b9eac>\u001b[0m in \u001b[0;36mtrain_perceptron\u001b[1;34m(training_data)\u001b[0m\n\u001b[0;32m     28\u001b[0m         \u001b[1;31m# Update the weight vector with perceptron update rule\u001b[0m\u001b[1;33m\u001b[0m\u001b[1;33m\u001b[0m\u001b[1;33m\u001b[0m\u001b[0m\n\u001b[0;32m     29\u001b[0m \u001b[1;33m\u001b[0m\u001b[0m\n\u001b[1;32m---> 30\u001b[1;33m         \u001b[0miteration\u001b[0m \u001b[1;33m+=\u001b[0m \u001b[1;36m1\u001b[0m\u001b[1;33m\u001b[0m\u001b[1;33m\u001b[0m\u001b[0m\n\u001b[0m\u001b[0;32m     31\u001b[0m \u001b[1;33m\u001b[0m\u001b[0m\n\u001b[0;32m     32\u001b[0m     \u001b[1;32mreturn\u001b[0m \u001b[0mw\u001b[0m\u001b[1;33m\u001b[0m\u001b[1;33m\u001b[0m\u001b[0m\n",
      "\u001b[1;31mKeyboardInterrupt\u001b[0m: "
     ]
    }
   ],
   "source": [
    "import numpy as np\n",
    "from random import choice\n",
    "import matplotlib.pyplot as plt\n",
    "\n",
    "def train_perceptron(training_data):\n",
    "    '''\n",
    "    Train a perceptron model given a set of training data\n",
    "    :param training_data: A list of data points, where training_data[0]\n",
    "    contains the data points and training_data[1] contains the labels.\n",
    "    Labels are +1/-1.\n",
    "    :return: learned model vector\n",
    "    '''\n",
    "    X = training_data[0]\n",
    "    y = training_data[1]\n",
    "    model_size = X.shape[1]\n",
    "    w = np.zeros(model_size)#np.random.rand(model_size)\n",
    "    iteration = 1\n",
    "    while True:\n",
    "        # compute results according to the hypothesis\n",
    "\n",
    "        # get incorrect predictions (you can get the indices)\n",
    "\n",
    "        # Check the convergence criteria (if there are no misclassified\n",
    "        # points, the PLA is converged and we can stop.)\n",
    "\n",
    "        # Pick one misclassified example.\n",
    "\n",
    "        # Update the weight vector with perceptron update rule\n",
    "\n",
    "        iteration += 1\n",
    "\n",
    "    return w\n",
    "\n",
    "def print_prediction(model,data):\n",
    "    '''\n",
    "    Print the predictions given the dataset and the learned model.\n",
    "    :param model: model vector\n",
    "    :param data:  data points\n",
    "    :return: nothing\n",
    "    '''\n",
    "    result = np.matmul(data,model)\n",
    "    predictions = np.sign(result)\n",
    "    for i in range(len(data)):\n",
    "        print(\"{}: {} -> {}\".format(data[i][:2], result[i], predictions[i]))\n",
    "\n",
    "\n",
    "if __name__ == '__main__':\n",
    "\n",
    "    rnd_x = np.array([[0,1,1],\\\n",
    "                      [0.6,0.6,1],\\\n",
    "                      [1,0,1],\\\n",
    "                      [1,1,1],\\\n",
    "                      [0.3,0.4,1],\\\n",
    "                      [0.2,0.3,1],\\\n",
    "                      [0.1,0.4,1],\\\n",
    "                      [0.5,-0.1,1]])\n",
    "\n",
    "    rnd_y = np.array([1,1,1,1,-1,-1,-1,-1])\n",
    "    rnd_data = [rnd_x,rnd_y]\n",
    "\n",
    "    trained_model = train_perceptron(rnd_data)\n",
    "    print(\"Model:\", trained_model)\n",
    "    print_prediction(trained_model, rnd_x)\n",
    "\n"
   ]
  },
  {
   "cell_type": "markdown",
   "metadata": {},
   "source": [
    "### WHat is your professor doing here?\n",
    "+ he is building a function train_perception which takes one input(training data)\n",
    "+ that training data is going to be an array of traits(features) and an array of our target 1, -1(think back to what i was telling you and look at the other notebook if terms are weird)\n",
    "+ your professor than uses the if __name__ == '__main__' which pretty much just says if this is the main script(it is), due what happens below\n",
    "+ he then creates two arrays(one storing all the traits(rnd_x), one storing all the scores or targets(rnd_y).  He joins them into a list called rnd_data.  rnd_data s then fed into the function.  \n",
    "+ now if we look at our function we have x= training_data[0] and y= trianing_data[1] this means x= rnd_x and y= rnd_y\n",
    "+ He then calls a modelsize and initiaites w, which will be the object we keep updating in the algorithm "
   ]
  },
  {
   "cell_type": "code",
   "execution_count": null,
   "metadata": {},
   "outputs": [],
   "source": [
    "##X = training_data[0] or rnd_x\n",
    "X= np.array([[0,1,1],\\\n",
    "                  [0.6,0.6,1],\\\n",
    "                  [1,0,1],\\\n",
    "                  [1,1,1],\\\n",
    "                  [0.3,0.4,1],\\\n",
    "                  [0.2,0.3,1],\\\n",
    "                  [0.1,0.4,1],\\\n",
    "                  [0.5,-0.1,1]])\n",
    "\n",
    "\n",
    "\n",
    "##y = training_data[1] or  ##rnd_y\n",
    "y= np.array([1,1,1,1,-1,-1,-1,-1])\n",
    "\n",
    "model_size = X.shape[1]\n",
    "w = np.zeros(model_size)#np.random.rand(model_size)\n",
    "iteration = 1\n",
    "while True:\n",
    "    # compute results according to the hypothesis\n",
    "\n",
    "    # get incorrect predictions (you can get the indices)\n",
    "\n",
    "    # Check the convergence criteria (if there are no misclassified\n",
    "    # points, the PLA is converged and we can stop.)\n",
    "\n",
    "    # Pick one misclassified example.\n",
    "\n",
    "    # Update the weight vector with perceptron update rule\n",
    "\n",
    "    iteration += 1\n",
    "\n",
    "return w\n",
    "\n",
    "\n",
    "\n",
    "rnd_x = np.array([[0,1,1],\\\n",
    "                  [0.6,0.6,1],\\\n",
    "                  [1,0,1],\\\n",
    "                  [1,1,1],\\\n",
    "                  [0.3,0.4,1],\\\n",
    "                  [0.2,0.3,1],\\\n",
    "                  [0.1,0.4,1],\\\n",
    "                  [0.5,-0.1,1]])\n",
    "\n",
    "rnd_y = np.array([1,1,1,1,-1,-1,-1,-1])\n",
    "rnd_data = [rnd_x,rnd_y]\n",
    "\n",
    "# trained_model = train_perceptron(rnd_data)\n",
    "# print(\"Model:\", trained_model)\n",
    "#     print_prediction(trained_model, rnd_x)\n"
   ]
  },
  {
   "cell_type": "markdown",
   "metadata": {},
   "source": [
    "## Lets work on it outside the function"
   ]
  },
  {
   "cell_type": "code",
   "execution_count": 68,
   "metadata": {},
   "outputs": [
    {
     "name": "stdout",
     "output_type": "stream",
     "text": [
      "epoch  1\n",
      "number correct is 4.0\n",
      "epoch  2\n",
      "number correct is 4.0\n",
      "epoch  3\n",
      "number correct is 5.0\n",
      "epoch  4\n",
      "number correct is 7.0\n",
      "epoch  5\n",
      "number correct is 7.0\n",
      "epoch  6\n",
      "number correct is 7.0\n",
      "epoch  7\n",
      "number correct is 8.0\n",
      "epoch  8\n",
      "number correct is 8.0\n",
      "epoch  9\n",
      "number correct is 8.0\n",
      "epoch  10\n",
      "number correct is 8.0\n",
      "[ 1.3  1.3 -1. ]\n"
     ]
    }
   ],
   "source": [
    "X= np.array([[0,1,1],\\\n",
    "                  [0.6,0.6,1],\\\n",
    "                  [1,0,1],\\\n",
    "                  [1,1,1],\\\n",
    "                  [0.3,0.4,1],\\\n",
    "                  [0.2,0.3,1],\\\n",
    "                  [0.1,0.4,1],\\\n",
    "                  [0.5,-0.1,1]])\n",
    "\n",
    "\n",
    "\n",
    "##y = training_data[1] or  ##rnd_y\n",
    "Y= np.array([1,1,1,1,-1,-1,-1,-1])\n",
    "\n",
    "## Initialize weight\n",
    "w = np.zeros(len(X[0]))\n",
    "\n",
    "## number of observations\n",
    "model_size = X.shape[1]\n",
    "\n",
    "## learning rate- you dont need this, in general learning rate is an important conecpt\n",
    "## typcially it is small number, here we set it to 1 so it means nothing\n",
    "eta = 1\n",
    "\n",
    "## cap on number of epochs\n",
    "epochs = 100 \n",
    "\n",
    "## starting epoch\n",
    "itteration=1 \n",
    "\n",
    "\n",
    "## build algorithm \n",
    "for epoch in range(10):\n",
    "    print(\"epoch \",epoch+1)\n",
    "    for i, x in enumerate(X):\n",
    "        if (np.dot(X[i], w)*Y[i]) <= 0:\n",
    "            w = w + eta*X[i]*Y[i]\n",
    "    \n",
    "    ## build accuracy report\n",
    "    num_correct = 0.0\n",
    "    for i in range(len(X)):\n",
    "        if np.dot(X[i], w)*Y[i]>0: num_correct+=1.0 \n",
    "    print(\"number correct is\",num_correct)\n",
    "    if num_correct== model_size:\n",
    "        print(w)\n",
    "        break\n",
    "    itteration+=1\n",
    "print(w)"
   ]
  },
  {
   "cell_type": "markdown",
   "metadata": {},
   "source": [
    "## This is the full answer below"
   ]
  },
  {
   "cell_type": "code",
   "execution_count": 79,
   "metadata": {},
   "outputs": [
    {
     "name": "stdout",
     "output_type": "stream",
     "text": [
      "iteration  1\n",
      "number correct is 4.0\n",
      "iteration  2\n",
      "number correct is 4.0\n",
      "iteration  3\n",
      "number correct is 5.0\n",
      "iteration  4\n",
      "number correct is 7.0\n",
      "iteration  5\n",
      "number correct is 7.0\n",
      "iteration  6\n",
      "number correct is 7.0\n",
      "iteration  7\n",
      "number correct is 8.0\n",
      "Model: [ 1.3  1.3 -1. ]\n",
      "[0. 1.]: 0.30000000000000027 -> 1.0\n",
      "[0.6 0.6]: 0.56 -> 1.0\n",
      "[1. 0.]: 0.2999999999999998 -> 1.0\n",
      "[1. 1.]: 1.6 -> 1.0\n",
      "[0.3 0.4]: -0.08999999999999986 -> -1.0\n",
      "[0.2 0.3]: -0.35 -> -1.0\n",
      "[0.1 0.4]: -0.34999999999999987 -> -1.0\n",
      "[ 0.5 -0.1]: -0.4800000000000001 -> -1.0\n"
     ]
    }
   ],
   "source": [
    "import numpy as np\n",
    "from random import choice\n",
    "import matplotlib.pyplot as plt\n",
    "\n",
    "\n",
    "\n",
    "def train_perceptron(training_data):\n",
    "    '''\n",
    "    Train a perceptron model given a set of training data\n",
    "    :param training_data: A list of data points, where training_data[0]\n",
    "    contains the data points and training_data[1] contains the labels.\n",
    "    Labels are +1/-1.\n",
    "    :return: learned model vector\n",
    "    '''\n",
    "    ## our characteristics\n",
    "    X = training_data[0]\n",
    "    \n",
    "    ## our targets\n",
    "    y = training_data[1]\n",
    "    \n",
    "    ## number of characteristics\n",
    "    model_size = X.shape[1]\n",
    "    \n",
    "    ## initiate weights\n",
    "    w = np.zeros(model_size)  # np.random.rand(model_size)\n",
    "    \n",
    "    ## store iteration number\n",
    "    iteration = 1\n",
    "\n",
    "    while True:\n",
    "        for iteration in range(50):\n",
    "            print(\"iteration \", iteration+1)\n",
    "            for i, x in enumerate(X):\n",
    "                if (np.dot(X[i], w)*Y[i]) <= 0:\n",
    "                    w = w + eta*X[i]*Y[i]\n",
    "\n",
    "            # build accuracy report\n",
    "            num_correct = 0.0\n",
    "            for i in range(len(X)):\n",
    "                if np.dot(X[i], w)*Y[i] > 0:\n",
    "                    num_correct += 1.0\n",
    "            print(\"number correct is\", num_correct)\n",
    "            \n",
    "            ## if all observations are correct; break\n",
    "            if num_correct == len(X):\n",
    "                return(w)\n",
    "                break\n",
    "            iteration += 1\n",
    "            \n",
    "def print_prediction(model, data):\n",
    "    '''\n",
    "    Print the predictions given the dataset and the learned model.\n",
    "    :param model: model vector\n",
    "    :param data:  data points\n",
    "    :return: nothing\n",
    "    '''\n",
    "    result = np.matmul(data, model)\n",
    "    predictions = np.sign(result)\n",
    "    for i in range(len(data)):\n",
    "        print(\"{}: {} -> {}\".format(data[i][:2], result[i], predictions[i]))\n",
    "        \n",
    "if __name__ == '__main__':\n",
    "\n",
    "    rnd_x = np.array([[0, 1, 1],\n",
    "                      [0.6, 0.6, 1],\n",
    "                      [1, 0, 1],\n",
    "                      [1, 1, 1],\n",
    "                      [0.3, 0.4, 1],\n",
    "                      [0.2, 0.3, 1],\n",
    "                      [0.1, 0.4, 1],\n",
    "                      [0.5, -0.1, 1]])\n",
    "\n",
    "    rnd_y = np.array([1, 1, 1, 1, -1, -1, -1, -1])\n",
    "    rnd_data = [rnd_x, rnd_y]\n",
    "\n",
    "    trained_model = train_perceptron(rnd_data)\n",
    "    print(\"Model:\", trained_model)\n",
    "    print_prediction(trained_model, rnd_x)"
   ]
  },
  {
   "cell_type": "markdown",
   "metadata": {},
   "source": [
    "### Calling the function on its own "
   ]
  },
  {
   "cell_type": "code",
   "execution_count": 59,
   "metadata": {},
   "outputs": [
    {
     "name": "stdout",
     "output_type": "stream",
     "text": [
      "iteration  1\n",
      "number correct is 4.0\n",
      "iteration  2\n",
      "number correct is 4.0\n",
      "iteration  3\n",
      "number correct is 5.0\n",
      "iteration  4\n",
      "number correct is 7.0\n",
      "iteration  5\n",
      "number correct is 7.0\n",
      "iteration  6\n",
      "number correct is 7.0\n",
      "iteration  7\n",
      "number correct is 8.0\n"
     ]
    },
    {
     "data": {
      "text/plain": [
       "array([ 1.3,  1.3, -1. ])"
      ]
     },
     "execution_count": 59,
     "metadata": {},
     "output_type": "execute_result"
    }
   ],
   "source": [
    " rnd_x = np.array([[0, 1, 1],\n",
    "                      [0.6, 0.6, 1],\n",
    "                      [1, 0, 1],\n",
    "                      [1, 1, 1],\n",
    "                      [0.3, 0.4, 1],\n",
    "                      [0.2, 0.3, 1],\n",
    "                      [0.1, 0.4, 1],\n",
    "                      [0.5, -0.1, 1]])\n",
    "\n",
    "rnd_y = np.array([1, 1, 1, 1, -1, -1, -1, -1])\n",
    "rnd_data = [rnd_x, rnd_y]\n",
    "train_perceptron(rnd_data)"
   ]
  },
  {
   "cell_type": "code",
   "execution_count": 61,
   "metadata": {},
   "outputs": [
    {
     "name": "stdout",
     "output_type": "stream",
     "text": [
      "iteration  1\n",
      "number correct is 4.0\n",
      "iteration  2\n",
      "number correct is 4.0\n",
      "iteration  3\n",
      "number correct is 5.0\n",
      "iteration  4\n",
      "number correct is 7.0\n",
      "iteration  5\n",
      "number correct is 7.0\n",
      "iteration  6\n",
      "number correct is 7.0\n",
      "iteration  7\n",
      "number correct is 8.0\n",
      "Model: [ 1.3  1.3 -1. ]\n",
      "[0. 1.]: 0.30000000000000027 -> 1.0\n",
      "[0.6 0.6]: 0.56 -> 1.0\n",
      "[1. 0.]: 0.2999999999999998 -> 1.0\n",
      "[1. 1.]: 1.6 -> 1.0\n",
      "[0.3 0.4]: -0.08999999999999986 -> -1.0\n",
      "[0.2 0.3]: -0.35 -> -1.0\n",
      "[0.1 0.4]: -0.34999999999999987 -> -1.0\n",
      "[ 0.5 -0.1]: -0.4800000000000001 -> -1.0\n"
     ]
    }
   ],
   "source": [
    "trained_model = train_perceptron(rnd_data)\n",
    "print(\"Model:\", trained_model)\n",
    "print_prediction(trained_model, rnd_x)"
   ]
  },
  {
   "cell_type": "code",
   "execution_count": 152,
   "metadata": {
    "scrolled": true
   },
   "outputs": [
    {
     "name": "stdout",
     "output_type": "stream",
     "text": [
      "[[2.12996241]\n",
      " [2.01322451]\n",
      " [2.29706136]\n",
      " [1.81693013]\n",
      " [2.34143924]\n",
      " [1.80458966]\n",
      " [1.61949685]\n",
      " [1.92130629]\n",
      " [1.54673681]\n",
      " [1.53176208]\n",
      " [2.39566624]\n",
      " [2.08427726]\n",
      " [1.57276917]\n",
      " [1.15155978]\n",
      " [1.96042418]\n",
      " [1.81271801]\n",
      " [1.68641209]\n",
      " [0.91747838]\n",
      " [2.63237536]\n",
      " [2.0382098 ]]\n",
      "[[1.]\n",
      " [1.]\n",
      " [1.]\n",
      " [1.]\n",
      " [1.]\n",
      " [1.]\n",
      " [1.]\n",
      " [1.]\n",
      " [1.]\n",
      " [1.]\n",
      " [1.]\n",
      " [1.]\n",
      " [1.]\n",
      " [1.]\n",
      " [1.]\n",
      " [1.]\n",
      " [1.]\n",
      " [1.]\n",
      " [1.]\n",
      " [1.]]\n"
     ]
    },
    {
     "data": {
      "image/png": "[encoded data removed]",
      "text/plain": [
       "<Figure size 432x288 with 1 Axes>"
      ]
     },
     "metadata": {
      "needs_background": "light"
     },
     "output_type": "display_data"
    }
   ],
   "source": [
    "import random\n",
    "\n",
    "\n",
    "## build 20 random numbers\n",
    "x1=np.random.rand(20)\n",
    "x2=np.random.rand(20)\n",
    "b=np.ones(20)\n",
    "my_list=[b,x1,x2]\n",
    "my_matrix = np.reshape(my_list, (3, 20)).T\n",
    "\n",
    "## build weights\n",
    "w = np.random.rand(3,1)\n",
    "dot_prod = np.dot(my_matrix, w)\n",
    "print(dot_prod)\n",
    "print(np.sign(dot_prod))\n",
    "\n",
    "\n",
    "import matplotlib\n",
    "import matplotlib.pyplot as plt\n",
    "\n",
    "\n",
    "fig, ax = plt.subplots()\n",
    "#ax.plot(t, s)"
   ]
  },
  {
   "cell_type": "code",
   "execution_count": null,
   "metadata": {},
   "outputs": [],
   "source": []
  }
 ],
 "metadata": {
  "kernelspec": {
   "display_name": "Python 3",
   "language": "python",
   "name": "python3"
  },
  "language_info": {
   "codemirror_mode": {
    "name": "ipython",
    "version": 3
   },
   "file_extension": ".py",
   "mimetype": "text/x-python",
   "name": "python",
   "nbconvert_exporter": "python",
   "pygments_lexer": "ipython3",
   "version": "3.7.1"
  },
  "latex_envs": {
   "LaTeX_envs_menu_present": true,
   "autoclose": false,
   "autocomplete": true,
   "bibliofile": "biblio.bib",
   "cite_by": "apalike",
   "current_citInitial": 1,
   "eqLabelWithNumbers": true,
   "eqNumInitial": 1,
   "hotkeys": {
    "equation": "Ctrl-E",
    "itemize": "Ctrl-I"
   },
   "labels_anchors": false,
   "latex_user_defs": false,
   "report_style_numbering": false,
   "user_envs_cfg": false
  },
  "toc": {
   "base_numbering": 1,
   "nav_menu": {},
   "number_sections": true,
   "sideBar": true,
   "skip_h1_title": false,
   "title_cell": "Table of Contents",
   "title_sidebar": "Contents",
   "toc_cell": false,
   "toc_position": {},
   "toc_section_display": true,
   "toc_window_display": false
  },
  "varInspector": {
   "cols": {
    "lenName": 16,
    "lenType": 16,
    "lenVar": 40
   },
   "kernels_config": {
    "python": {
     "delete_cmd_postfix": "",
     "delete_cmd_prefix": "del ",
     "library": "var_list.py",
     "varRefreshCmd": "print(var_dic_list())"
    },
    "r": {
     "delete_cmd_postfix": ") ",
     "delete_cmd_prefix": "rm(",
     "library": "var_list.r",
     "varRefreshCmd": "cat(var_dic_list()) "
    }
   },
   "position": {
    "height": "542.646px",
    "left": "1702px",
    "right": "20px",
    "top": "120px",
    "width": "350px"
   },
   "types_to_exclude": [
    "module",
    "function",
    "builtin_function_or_method",
    "instance",
    "_Feature"
   ],
   "window_display": true
  }
 },
 "nbformat": 4,
 "nbformat_minor": 2
}
